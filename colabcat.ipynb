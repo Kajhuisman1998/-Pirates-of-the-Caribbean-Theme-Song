{
  "nbformat": 4,
  "nbformat_minor": 0,
  "metadata": {
    "colab": {
      "name": "colabcat.ipynb",
      "provenance": []
    },
    "kernelspec": {
      "name": "python3",
      "display_name": "Python 3"
    },
    "accelerator": "GPU"
  },
  "cells": [
    {
      "cell_type": "code",
      "metadata": {
        "id": "qx7jld_zTB1E",
        "outputId": "fca75219-a701-4760-a521-1fdad4d32674",
        "colab": {
          "base_uri": "https://localhost:8080/"
        }
      },
      "source": [
        "# Check GPU Specs\n",
        "!nvidia-smi"
      ],
      "execution_count": 1,
      "outputs": [
        {
          "output_type": "stream",
          "name": "stdout",
          "text": [
            "Thu Oct 23 19:45:14 2025       \n",
            "+-----------------------------------------------------------------------------------------+\n",
            "| NVIDIA-SMI 550.54.15              Driver Version: 550.54.15      CUDA Version: 12.4     |\n",
            "|-----------------------------------------+------------------------+----------------------+\n",
            "| GPU  Name                 Persistence-M | Bus-Id          Disp.A | Volatile Uncorr. ECC |\n",
            "| Fan  Temp   Perf          Pwr:Usage/Cap |           Memory-Usage | GPU-Util  Compute M. |\n",
            "|                                         |                        |               MIG M. |\n",
            "|=========================================+========================+======================|\n",
            "|   0  Tesla T4                       Off |   00000000:00:04.0 Off |                    0 |\n",
            "| N/A   55C    P8              9W /   70W |       0MiB /  15360MiB |      0%      Default |\n",
            "|                                         |                        |                  N/A |\n",
            "+-----------------------------------------+------------------------+----------------------+\n",
            "                                                                                         \n",
            "+-----------------------------------------------------------------------------------------+\n",
            "| Processes:                                                                              |\n",
            "|  GPU   GI   CI        PID   Type   Process name                              GPU Memory |\n",
            "|        ID   ID                                                               Usage      |\n",
            "|=========================================================================================|\n",
            "|  No running processes found                                                             |\n",
            "+-----------------------------------------------------------------------------------------+\n"
          ]
        }
      ]
    },
    {
      "cell_type": "code",
      "metadata": {
        "id": "6FHgYTj3Xb4d",
        "outputId": "028bee55-b2a3-4cfd-947b-53181d150b59",
        "colab": {
          "base_uri": "https://localhost:8080/"
        }
      },
      "source": [
        "# Get hashes to crack\n",
        "# Make a directory called 'dothashcat' in your Google Drive before this\n",
        "# with the 'hashes' subdirectory for storing hashes\n",
        "from google.colab import drive\n",
        "\n",
        "# This will ask you to go to a link and get an authorization code\n",
        "# to let the .hashcat folder get synced to your Google Drive\n",
        "drive.mount('/content/drive')\n",
        "\n",
        "# Make a symbolic link between Google Drive\n",
        "# and the local .hashcat directory\n",
        "!ls /content/drive/My\\ Drive/dothashcat\n",
        "!ln -s /content/drive/My\\ Drive/dothashcat /root/.hashcat"
      ],
      "execution_count": 2,
      "outputs": [
        {
          "output_type": "stream",
          "name": "stdout",
          "text": [
            "Mounted at /content/drive\n",
            "ls: cannot access '/content/drive/My Drive/dothashcat': No such file or directory\n"
          ]
        }
      ]
    },
    {
      "cell_type": "code",
      "metadata": {
        "id": "Q5zVWgXVTc9X",
        "cellView": "both",
        "outputId": "b934960c-a962-433e-89a2-c16cb0f09f6b",
        "colab": {
          "base_uri": "https://localhost:8080/"
        }
      },
      "source": [
        "# Clone, build and install Hashcat\n",
        "!apt install cmake build-essential -y\n",
        "!apt install checkinstall git -y\n",
        "!git clone https://github.com/hashcat/hashcat.git\n",
        "!cd hashcat && git submodule update --init && make && make install"
      ],
      "execution_count": 1,
      "outputs": [
        {
          "output_type": "stream",
          "name": "stdout",
          "text": [
            "Reading package lists... Done\n",
            "Building dependency tree... Done\n",
            "Reading state information... Done\n",
            "build-essential is already the newest version (12.9ubuntu3).\n",
            "cmake is already the newest version (3.22.1-1ubuntu1.22.04.2).\n",
            "0 upgraded, 0 newly installed, 0 to remove and 38 not upgraded.\n",
            "Reading package lists... Done\n",
            "Building dependency tree... Done\n",
            "Reading state information... Done\n",
            "git is already the newest version (1:2.34.1-1ubuntu1.15).\n",
            "Suggested packages:\n",
            "  gettext\n",
            "The following NEW packages will be installed:\n",
            "  checkinstall\n",
            "0 upgraded, 1 newly installed, 0 to remove and 38 not upgraded.\n",
            "Need to get 107 kB of archives.\n",
            "After this operation, 446 kB of additional disk space will be used.\n",
            "Get:1 http://archive.ubuntu.com/ubuntu jammy/universe amd64 checkinstall amd64 1.6.2+git20170426.d24a630-2ubuntu2 [107 kB]\n",
            "Fetched 107 kB in 1s (110 kB/s)\n",
            "Selecting previously unselected package checkinstall.\n",
            "(Reading database ... 126675 files and directories currently installed.)\n",
            "Preparing to unpack .../checkinstall_1.6.2+git20170426.d24a630-2ubuntu2_amd64.deb ...\n",
            "Unpacking checkinstall (1.6.2+git20170426.d24a630-2ubuntu2) ...\n",
            "Setting up checkinstall (1.6.2+git20170426.d24a630-2ubuntu2) ...\n",
            "Processing triggers for man-db (2.10.2-1) ...\n",
            "Cloning into 'hashcat'...\n",
            "remote: Enumerating objects: 105653, done.\u001b[K\n",
            "remote: Counting objects: 100% (54/54), done.\u001b[K\n",
            "remote: Compressing objects: 100% (28/28), done.\u001b[K\n",
            "remote: Total 105653 (delta 38), reused 35 (delta 26), pack-reused 105599 (from 2)\u001b[K\n",
            "Receiving objects: 100% (105653/105653), 143.55 MiB | 16.34 MiB/s, done.\n",
            "Resolving deltas: 100% (90522/90522), done.\n",
            "src/bridges/bridge_python_generic_hash_sp.mk:85: warning: overriding recipe for target 'bridges/bridge_python_generic_hash_sp.so'\n",
            "src/bridges/bridge_python_generic_hash_sp.mk:66: warning: ignoring old recipe for target 'bridges/bridge_python_generic_hash_sp.so'\n",
            "gcc -c -std=gnu99 -flto=auto -march=native -mtune=native -W -Wall -Wextra -O2 -fomit-frame-pointer -fno-plt -pipe -Iinclude/ -IOpenCL/ -Ideps/LZMA-SDK/C -Ideps/zlib -Ideps/zlib/contrib -Ideps/OpenCL-Headers -DWITH_BRAIN -Ideps/xxHash -DWITH_CUBIN -Ideps/unrar -DWITH_HWMON src/affinity.c -o obj/affinity.NATIVE.o -fpic\n",
            "gcc -c -std=gnu99 -flto=auto -march=native -mtune=native -W -Wall -Wextra -O2 -fomit-frame-pointer -fno-plt -pipe -Iinclude/ -IOpenCL/ -Ideps/LZMA-SDK/C -Ideps/zlib -Ideps/zlib/contrib -Ideps/OpenCL-Headers -DWITH_BRAIN -Ideps/xxHash -DWITH_CUBIN -Ideps/unrar -DWITH_HWMON src/autotune.c -o obj/autotune.NATIVE.o -fpic\n",
            "gcc -c -std=gnu99 -flto=auto -march=native -mtune=native -W -Wall -Wextra -O2 -fomit-frame-pointer -fno-plt -pipe -Iinclude/ -IOpenCL/ -Ideps/LZMA-SDK/C -Ideps/zlib -Ideps/zlib/contrib -Ideps/OpenCL-Headers -DWITH_BRAIN -Ideps/xxHash -DWITH_CUBIN -Ideps/unrar -DWITH_HWMON src/backend.c -o obj/backend.NATIVE.o -fpic\n",
            "gcc -c -std=gnu99 -flto=auto -march=native -mtune=native -W -Wall -Wextra -O2 -fomit-frame-pointer -fno-plt -pipe -Iinclude/ -IOpenCL/ -Ideps/LZMA-SDK/C -Ideps/zlib -Ideps/zlib/contrib -Ideps/OpenCL-Headers -DWITH_BRAIN -Ideps/xxHash -DWITH_CUBIN -Ideps/unrar -DWITH_HWMON src/benchmark.c -o obj/benchmark.NATIVE.o -fpic\n",
            "gcc -c -std=gnu99 -flto=auto -march=native -mtune=native -W -Wall -Wextra -O2 -fomit-frame-pointer -fno-plt -pipe -Iinclude/ -IOpenCL/ -Ideps/LZMA-SDK/C -Ideps/zlib -Ideps/zlib/contrib -Ideps/OpenCL-Headers -DWITH_BRAIN -Ideps/xxHash -DWITH_CUBIN -Ideps/unrar -DWITH_HWMON src/bitmap.c -o obj/bitmap.NATIVE.o -fpic\n",
            "gcc -c -std=gnu99 -flto=auto -march=native -mtune=native -W -Wall -Wextra -O2 -fomit-frame-pointer -fno-plt -pipe -Iinclude/ -IOpenCL/ -Ideps/LZMA-SDK/C -Ideps/zlib -Ideps/zlib/contrib -Ideps/OpenCL-Headers -DWITH_BRAIN -Ideps/xxHash -DWITH_CUBIN -Ideps/unrar -DWITH_HWMON src/bitops.c -o obj/bitops.NATIVE.o -fpic\n",
            "gcc -c -std=gnu99 -flto=auto -march=native -mtune=native -W -Wall -Wextra -O2 -fomit-frame-pointer -fno-plt -pipe -Iinclude/ -IOpenCL/ -Ideps/LZMA-SDK/C -Ideps/zlib -Ideps/zlib/contrib -Ideps/OpenCL-Headers -DWITH_BRAIN -Ideps/xxHash -DWITH_CUBIN -Ideps/unrar -DWITH_HWMON src/bridges.c -o obj/bridges.NATIVE.o -fpic\n",
            "gcc -c -std=gnu99 -flto=auto -march=native -mtune=native -W -Wall -Wextra -O2 -fomit-frame-pointer -fno-plt -pipe -Iinclude/ -IOpenCL/ -Ideps/LZMA-SDK/C -Ideps/zlib -Ideps/zlib/contrib -Ideps/OpenCL-Headers -DWITH_BRAIN -Ideps/xxHash -DWITH_CUBIN -Ideps/unrar -DWITH_HWMON src/combinator.c -o obj/combinator.NATIVE.o -fpic\n",
            "gcc -c -std=gnu99 -flto=auto -march=native -mtune=native -W -Wall -Wextra -O2 -fomit-frame-pointer -fno-plt -pipe -Iinclude/ -IOpenCL/ -Ideps/LZMA-SDK/C -Ideps/zlib -Ideps/zlib/contrib -Ideps/OpenCL-Headers -DWITH_BRAIN -Ideps/xxHash -DWITH_CUBIN -Ideps/unrar -DWITH_HWMON src/common.c -o obj/common.NATIVE.o -fpic\n",
            "gcc -c -std=gnu99 -flto=auto -march=native -mtune=native -W -Wall -Wextra -O2 -fomit-frame-pointer -fno-plt -pipe -Iinclude/ -IOpenCL/ -Ideps/LZMA-SDK/C -Ideps/zlib -Ideps/zlib/contrib -Ideps/OpenCL-Headers -DWITH_BRAIN -Ideps/xxHash -DWITH_CUBIN -Ideps/unrar -DWITH_HWMON src/convert.c -o obj/convert.NATIVE.o -fpic\n",
            "gcc -c -std=gnu99 -flto=auto -march=native -mtune=native -W -Wall -Wextra -O2 -fomit-frame-pointer -fno-plt -pipe -Iinclude/ -IOpenCL/ -Ideps/LZMA-SDK/C -Ideps/zlib -Ideps/zlib/contrib -Ideps/OpenCL-Headers -DWITH_BRAIN -Ideps/xxHash -DWITH_CUBIN -Ideps/unrar -DWITH_HWMON src/cpt.c -o obj/cpt.NATIVE.o -fpic\n",
            "gcc -c -std=gnu99 -flto=auto -march=native -mtune=native -W -Wall -Wextra -O2 -fomit-frame-pointer -fno-plt -pipe -Iinclude/ -IOpenCL/ -Ideps/LZMA-SDK/C -Ideps/zlib -Ideps/zlib/contrib -Ideps/OpenCL-Headers -DWITH_BRAIN -Ideps/xxHash -DWITH_CUBIN -Ideps/unrar -DWITH_HWMON src/cpu_crc32.c -o obj/cpu_crc32.NATIVE.o -fpic\n",
            "gcc -c -std=gnu99 -flto=auto -march=native -mtune=native -W -Wall -Wextra -O2 -fomit-frame-pointer -fno-plt -pipe -Iinclude/ -IOpenCL/ -Ideps/LZMA-SDK/C -Ideps/zlib -Ideps/zlib/contrib -Ideps/OpenCL-Headers -DWITH_BRAIN -Ideps/xxHash -DWITH_CUBIN -Ideps/unrar -DWITH_HWMON src/cpu_features.c -o obj/cpu_features.NATIVE.o -fpic\n",
            "gcc -c -std=gnu99 -flto=auto -march=native -mtune=native -W -Wall -Wextra -O2 -fomit-frame-pointer -fno-plt -pipe -Iinclude/ -IOpenCL/ -Ideps/LZMA-SDK/C -Ideps/zlib -Ideps/zlib/contrib -Ideps/OpenCL-Headers -DWITH_BRAIN -Ideps/xxHash -DWITH_CUBIN -Ideps/unrar -DWITH_HWMON src/debugfile.c -o obj/debugfile.NATIVE.o -fpic\n",
            "gcc -c -std=gnu99 -flto=auto -march=native -mtune=native -W -Wall -Wextra -O2 -fomit-frame-pointer -fno-plt -pipe -Iinclude/ -IOpenCL/ -Ideps/LZMA-SDK/C -Ideps/zlib -Ideps/zlib/contrib -Ideps/OpenCL-Headers -DWITH_BRAIN -Ideps/xxHash -DWITH_CUBIN -Ideps/unrar -DWITH_HWMON src/dictstat.c -o obj/dictstat.NATIVE.o -fpic\n",
            "gcc -c -std=gnu99 -flto=auto -march=native -mtune=native -W -Wall -Wextra -O2 -fomit-frame-pointer -fno-plt -pipe -Iinclude/ -IOpenCL/ -Ideps/LZMA-SDK/C -Ideps/zlib -Ideps/zlib/contrib -Ideps/OpenCL-Headers -DWITH_BRAIN -Ideps/xxHash -DWITH_CUBIN -Ideps/unrar -DWITH_HWMON src/dispatch.c -o obj/dispatch.NATIVE.o -fpic\n",
            "gcc -c -std=gnu99 -flto=auto -march=native -mtune=native -W -Wall -Wextra -O2 -fomit-frame-pointer -fno-plt -pipe -Iinclude/ -IOpenCL/ -Ideps/LZMA-SDK/C -Ideps/zlib -Ideps/zlib/contrib -Ideps/OpenCL-Headers -DWITH_BRAIN -Ideps/xxHash -DWITH_CUBIN -Ideps/unrar -DWITH_HWMON src/dynloader.c -o obj/dynloader.NATIVE.o -fpic\n",
            "gcc -c -std=gnu99 -flto=auto -march=native -mtune=native -W -Wall -Wextra -O2 -fomit-frame-pointer -fno-plt -pipe -Iinclude/ -IOpenCL/ -Ideps/LZMA-SDK/C -Ideps/zlib -Ideps/zlib/contrib -Ideps/OpenCL-Headers -DWITH_BRAIN -Ideps/xxHash -DWITH_CUBIN -Ideps/unrar -DWITH_HWMON src/event.c -o obj/event.NATIVE.o -fpic\n",
            "gcc -c -std=gnu99 -flto=auto -march=native -mtune=native -W -Wall -Wextra -O2 -fomit-frame-pointer -fno-plt -pipe -Iinclude/ -IOpenCL/ -Ideps/LZMA-SDK/C -Ideps/zlib -Ideps/zlib/contrib -Ideps/OpenCL-Headers -DWITH_BRAIN -Ideps/xxHash -DWITH_CUBIN -Ideps/unrar -DWITH_HWMON src/ext_ADL.c -o obj/ext_ADL.NATIVE.o -fpic\n",
            "gcc -c -std=gnu99 -flto=auto -march=native -mtune=native -W -Wall -Wextra -O2 -fomit-frame-pointer -fno-plt -pipe -Iinclude/ -IOpenCL/ -Ideps/LZMA-SDK/C -Ideps/zlib -Ideps/zlib/contrib -Ideps/OpenCL-Headers -DWITH_BRAIN -Ideps/xxHash -DWITH_CUBIN -Ideps/unrar -DWITH_HWMON src/ext_cuda.c -o obj/ext_cuda.NATIVE.o -fpic\n",
            "gcc -c -std=gnu99 -flto=auto -march=native -mtune=native -W -Wall -Wextra -O2 -fomit-frame-pointer -fno-plt -pipe -Iinclude/ -IOpenCL/ -Ideps/LZMA-SDK/C -Ideps/zlib -Ideps/zlib/contrib -Ideps/OpenCL-Headers -DWITH_BRAIN -Ideps/xxHash -DWITH_CUBIN -Ideps/unrar -DWITH_HWMON src/ext_hip.c -o obj/ext_hip.NATIVE.o -fpic\n",
            "gcc -c -std=gnu99 -flto=auto -march=native -mtune=native -W -Wall -Wextra -O2 -fomit-frame-pointer -fno-plt -pipe -Iinclude/ -IOpenCL/ -Ideps/LZMA-SDK/C -Ideps/zlib -Ideps/zlib/contrib -Ideps/OpenCL-Headers -DWITH_BRAIN -Ideps/xxHash -DWITH_CUBIN -Ideps/unrar -DWITH_HWMON src/ext_nvapi.c -o obj/ext_nvapi.NATIVE.o -fpic\n",
            "gcc -c -std=gnu99 -flto=auto -march=native -mtune=native -W -Wall -Wextra -O2 -fomit-frame-pointer -fno-plt -pipe -Iinclude/ -IOpenCL/ -Ideps/LZMA-SDK/C -Ideps/zlib -Ideps/zlib/contrib -Ideps/OpenCL-Headers -DWITH_BRAIN -Ideps/xxHash -DWITH_CUBIN -Ideps/unrar -DWITH_HWMON src/ext_nvml.c -o obj/ext_nvml.NATIVE.o -fpic\n",
            "gcc -c -std=gnu99 -flto=auto -march=native -mtune=native -W -Wall -Wextra -O2 -fomit-frame-pointer -fno-plt -pipe -Iinclude/ -IOpenCL/ -Ideps/LZMA-SDK/C -Ideps/zlib -Ideps/zlib/contrib -Ideps/OpenCL-Headers -DWITH_BRAIN -Ideps/xxHash -DWITH_CUBIN -Ideps/unrar -DWITH_HWMON src/ext_nvrtc.c -o obj/ext_nvrtc.NATIVE.o -fpic\n",
            "gcc -c -std=gnu99 -flto=auto -march=native -mtune=native -W -Wall -Wextra -O2 -fomit-frame-pointer -fno-plt -pipe -Iinclude/ -IOpenCL/ -Ideps/LZMA-SDK/C -Ideps/zlib -Ideps/zlib/contrib -Ideps/OpenCL-Headers -DWITH_BRAIN -Ideps/xxHash -DWITH_CUBIN -Ideps/unrar -DWITH_HWMON src/ext_hiprtc.c -o obj/ext_hiprtc.NATIVE.o -fpic\n",
            "gcc -c -std=gnu99 -flto=auto -march=native -mtune=native -W -Wall -Wextra -O2 -fomit-frame-pointer -fno-plt -pipe -Iinclude/ -IOpenCL/ -Ideps/LZMA-SDK/C -Ideps/zlib -Ideps/zlib/contrib -Ideps/OpenCL-Headers -DWITH_BRAIN -Ideps/xxHash -DWITH_CUBIN -Ideps/unrar -DWITH_HWMON src/ext_OpenCL.c -o obj/ext_OpenCL.NATIVE.o -fpic\n",
            "gcc -c -std=gnu99 -flto=auto -march=native -mtune=native -W -Wall -Wextra -O2 -fomit-frame-pointer -fno-plt -pipe -Iinclude/ -IOpenCL/ -Ideps/LZMA-SDK/C -Ideps/zlib -Ideps/zlib/contrib -Ideps/OpenCL-Headers -DWITH_BRAIN -Ideps/xxHash -DWITH_CUBIN -Ideps/unrar -DWITH_HWMON src/ext_sysfs_amdgpu.c -o obj/ext_sysfs_amdgpu.NATIVE.o -fpic\n",
            "gcc -c -std=gnu99 -flto=auto -march=native -mtune=native -W -Wall -Wextra -O2 -fomit-frame-pointer -fno-plt -pipe -Iinclude/ -IOpenCL/ -Ideps/LZMA-SDK/C -Ideps/zlib -Ideps/zlib/contrib -Ideps/OpenCL-Headers -DWITH_BRAIN -Ideps/xxHash -DWITH_CUBIN -Ideps/unrar -DWITH_HWMON src/ext_sysfs_intelgpu.c -o obj/ext_sysfs_intelgpu.NATIVE.o -fpic\n",
            "gcc -c -std=gnu99 -flto=auto -march=native -mtune=native -W -Wall -Wextra -O2 -fomit-frame-pointer -fno-plt -pipe -Iinclude/ -IOpenCL/ -Ideps/LZMA-SDK/C -Ideps/zlib -Ideps/zlib/contrib -Ideps/OpenCL-Headers -DWITH_BRAIN -Ideps/xxHash -DWITH_CUBIN -Ideps/unrar -DWITH_HWMON src/ext_sysfs_cpu.c -o obj/ext_sysfs_cpu.NATIVE.o -fpic\n",
            "gcc -c -std=gnu99 -flto=auto -march=native -mtune=native -W -Wall -Wextra -O2 -fomit-frame-pointer -fno-plt -pipe -Iinclude/ -IOpenCL/ -Ideps/LZMA-SDK/C -Ideps/zlib -Ideps/zlib/contrib -Ideps/OpenCL-Headers -DWITH_BRAIN -Ideps/xxHash -DWITH_CUBIN -Ideps/unrar -DWITH_HWMON src/ext_lzma.c -o obj/ext_lzma.NATIVE.o -fpic\n",
            "gcc -c -std=gnu99 -flto=auto -march=native -mtune=native -W -Wall -Wextra -O2 -fomit-frame-pointer -fno-plt -pipe -Iinclude/ -IOpenCL/ -Ideps/LZMA-SDK/C -Ideps/zlib -Ideps/zlib/contrib -Ideps/OpenCL-Headers -DWITH_BRAIN -Ideps/xxHash -DWITH_CUBIN -Ideps/unrar -DWITH_HWMON src/filehandling.c -o obj/filehandling.NATIVE.o -fpic\n",
            "gcc -c -std=gnu99 -flto=auto -march=native -mtune=native -W -Wall -Wextra -O2 -fomit-frame-pointer -fno-plt -pipe -Iinclude/ -IOpenCL/ -Ideps/LZMA-SDK/C -Ideps/zlib -Ideps/zlib/contrib -Ideps/OpenCL-Headers -DWITH_BRAIN -Ideps/xxHash -DWITH_CUBIN -Ideps/unrar -DWITH_HWMON src/folder.c -o obj/folder.NATIVE.o -fpic\n",
            "gcc -c -std=gnu99 -flto=auto -march=native -mtune=native -W -Wall -Wextra -O2 -fomit-frame-pointer -fno-plt -pipe -Iinclude/ -IOpenCL/ -Ideps/LZMA-SDK/C -Ideps/zlib -Ideps/zlib/contrib -Ideps/OpenCL-Headers -DWITH_BRAIN -Ideps/xxHash -DWITH_CUBIN -Ideps/unrar -DWITH_HWMON src/hashcat.c -o obj/hashcat.NATIVE.o -fpic\n",
            "gcc -c -std=gnu99 -flto=auto -march=native -mtune=native -W -Wall -Wextra -O2 -fomit-frame-pointer -fno-plt -pipe -Iinclude/ -IOpenCL/ -Ideps/LZMA-SDK/C -Ideps/zlib -Ideps/zlib/contrib -Ideps/OpenCL-Headers -DWITH_BRAIN -Ideps/xxHash -DWITH_CUBIN -Ideps/unrar -DWITH_HWMON src/hashes.c -o obj/hashes.NATIVE.o -fpic\n",
            "gcc -c -std=gnu99 -flto=auto -march=native -mtune=native -W -Wall -Wextra -O2 -fomit-frame-pointer -fno-plt -pipe -Iinclude/ -IOpenCL/ -Ideps/LZMA-SDK/C -Ideps/zlib -Ideps/zlib/contrib -Ideps/OpenCL-Headers -DWITH_BRAIN -Ideps/xxHash -DWITH_CUBIN -Ideps/unrar -DWITH_HWMON src/hlfmt.c -o obj/hlfmt.NATIVE.o -fpic\n",
            "gcc -c -std=gnu99 -flto=auto -march=native -mtune=native -W -Wall -Wextra -O2 -fomit-frame-pointer -fno-plt -pipe -Iinclude/ -IOpenCL/ -Ideps/LZMA-SDK/C -Ideps/zlib -Ideps/zlib/contrib -Ideps/OpenCL-Headers -DWITH_BRAIN -Ideps/xxHash -DWITH_CUBIN -Ideps/unrar -DWITH_HWMON src/hwmon.c -o obj/hwmon.NATIVE.o -fpic\n",
            "gcc -c -std=gnu99 -flto=auto -march=native -mtune=native -W -Wall -Wextra -O2 -fomit-frame-pointer -fno-plt -pipe -Iinclude/ -IOpenCL/ -Ideps/LZMA-SDK/C -Ideps/zlib -Ideps/zlib/contrib -Ideps/OpenCL-Headers -DWITH_BRAIN -Ideps/xxHash -DWITH_CUBIN -Ideps/unrar -DWITH_HWMON src/induct.c -o obj/induct.NATIVE.o -fpic\n",
            "gcc -c -std=gnu99 -flto=auto -march=native -mtune=native -W -Wall -Wextra -O2 -fomit-frame-pointer -fno-plt -pipe -Iinclude/ -IOpenCL/ -Ideps/LZMA-SDK/C -Ideps/zlib -Ideps/zlib/contrib -Ideps/OpenCL-Headers -DWITH_BRAIN -Ideps/xxHash -DWITH_CUBIN -Ideps/unrar -DWITH_HWMON src/interface.c -o obj/interface.NATIVE.o -fpic\n",
            "gcc -c -std=gnu99 -flto=auto -march=native -mtune=native -W -Wall -Wextra -O2 -fomit-frame-pointer -fno-plt -pipe -Iinclude/ -IOpenCL/ -Ideps/LZMA-SDK/C -Ideps/zlib -Ideps/zlib/contrib -Ideps/OpenCL-Headers -DWITH_BRAIN -Ideps/xxHash -DWITH_CUBIN -Ideps/unrar -DWITH_HWMON src/keyboard_layout.c -o obj/keyboard_layout.NATIVE.o -fpic\n",
            "gcc -c -std=gnu99 -flto=auto -march=native -mtune=native -W -Wall -Wextra -O2 -fomit-frame-pointer -fno-plt -pipe -Iinclude/ -IOpenCL/ -Ideps/LZMA-SDK/C -Ideps/zlib -Ideps/zlib/contrib -Ideps/OpenCL-Headers -DWITH_BRAIN -Ideps/xxHash -DWITH_CUBIN -Ideps/unrar -DWITH_HWMON src/locking.c -o obj/locking.NATIVE.o -fpic\n",
            "gcc -c -std=gnu99 -flto=auto -march=native -mtune=native -W -Wall -Wextra -O2 -fomit-frame-pointer -fno-plt -pipe -Iinclude/ -IOpenCL/ -Ideps/LZMA-SDK/C -Ideps/zlib -Ideps/zlib/contrib -Ideps/OpenCL-Headers -DWITH_BRAIN -Ideps/xxHash -DWITH_CUBIN -Ideps/unrar -DWITH_HWMON src/logfile.c -o obj/logfile.NATIVE.o -fpic\n",
            "gcc -c -std=gnu99 -flto=auto -march=native -mtune=native -W -Wall -Wextra -O2 -fomit-frame-pointer -fno-plt -pipe -Iinclude/ -IOpenCL/ -Ideps/LZMA-SDK/C -Ideps/zlib -Ideps/zlib/contrib -Ideps/OpenCL-Headers -DWITH_BRAIN -Ideps/xxHash -DWITH_CUBIN -Ideps/unrar -DWITH_HWMON src/loopback.c -o obj/loopback.NATIVE.o -fpic\n",
            "gcc -c -std=gnu99 -flto=auto -march=native -mtune=native -W -Wall -Wextra -O2 -fomit-frame-pointer -fno-plt -pipe -Iinclude/ -IOpenCL/ -Ideps/LZMA-SDK/C -Ideps/zlib -Ideps/zlib/contrib -Ideps/OpenCL-Headers -DWITH_BRAIN -Ideps/xxHash -DWITH_CUBIN -Ideps/unrar -DWITH_HWMON src/memory.c -o obj/memory.NATIVE.o -fpic\n",
            "gcc -c -std=gnu99 -flto=auto -march=native -mtune=native -W -Wall -Wextra -O2 -fomit-frame-pointer -fno-plt -pipe -Iinclude/ -IOpenCL/ -Ideps/LZMA-SDK/C -Ideps/zlib -Ideps/zlib/contrib -Ideps/OpenCL-Headers -DWITH_BRAIN -Ideps/xxHash -DWITH_CUBIN -Ideps/unrar -DWITH_HWMON src/monitor.c -o obj/monitor.NATIVE.o -fpic\n",
            "gcc -c -std=gnu99 -flto=auto -march=native -mtune=native -W -Wall -Wextra -O2 -fomit-frame-pointer -fno-plt -pipe -Iinclude/ -IOpenCL/ -Ideps/LZMA-SDK/C -Ideps/zlib -Ideps/zlib/contrib -Ideps/OpenCL-Headers -DWITH_BRAIN -Ideps/xxHash -DWITH_CUBIN -Ideps/unrar -DWITH_HWMON src/mpsp.c -o obj/mpsp.NATIVE.o -fpic\n",
            "gcc -c -std=gnu99 -flto=auto -march=native -mtune=native -W -Wall -Wextra -O2 -fomit-frame-pointer -fno-plt -pipe -Iinclude/ -IOpenCL/ -Ideps/LZMA-SDK/C -Ideps/zlib -Ideps/zlib/contrib -Ideps/OpenCL-Headers -DWITH_BRAIN -Ideps/xxHash -DWITH_CUBIN -Ideps/unrar -DWITH_HWMON src/outfile_check.c -o obj/outfile_check.NATIVE.o -fpic\n",
            "gcc -c -std=gnu99 -flto=auto -march=native -mtune=native -W -Wall -Wextra -O2 -fomit-frame-pointer -fno-plt -pipe -Iinclude/ -IOpenCL/ -Ideps/LZMA-SDK/C -Ideps/zlib -Ideps/zlib/contrib -Ideps/OpenCL-Headers -DWITH_BRAIN -Ideps/xxHash -DWITH_CUBIN -Ideps/unrar -DWITH_HWMON src/outfile.c -o obj/outfile.NATIVE.o -fpic\n",
            "gcc -c -std=gnu99 -flto=auto -march=native -mtune=native -W -Wall -Wextra -O2 -fomit-frame-pointer -fno-plt -pipe -Iinclude/ -IOpenCL/ -Ideps/LZMA-SDK/C -Ideps/zlib -Ideps/zlib/contrib -Ideps/OpenCL-Headers -DWITH_BRAIN -Ideps/xxHash -DWITH_CUBIN -Ideps/unrar -DWITH_HWMON src/pidfile.c -o obj/pidfile.NATIVE.o -fpic\n",
            "gcc -c -std=gnu99 -flto=auto -march=native -mtune=native -W -Wall -Wextra -O2 -fomit-frame-pointer -fno-plt -pipe -Iinclude/ -IOpenCL/ -Ideps/LZMA-SDK/C -Ideps/zlib -Ideps/zlib/contrib -Ideps/OpenCL-Headers -DWITH_BRAIN -Ideps/xxHash -DWITH_CUBIN -Ideps/unrar -DWITH_HWMON src/potfile.c -o obj/potfile.NATIVE.o -fpic\n",
            "gcc -c -std=gnu99 -flto=auto -march=native -mtune=native -W -Wall -Wextra -O2 -fomit-frame-pointer -fno-plt -pipe -Iinclude/ -IOpenCL/ -Ideps/LZMA-SDK/C -Ideps/zlib -Ideps/zlib/contrib -Ideps/OpenCL-Headers -DWITH_BRAIN -Ideps/xxHash -DWITH_CUBIN -Ideps/unrar -DWITH_HWMON src/restore.c -o obj/restore.NATIVE.o -fpic\n",
            "gcc -c -std=gnu99 -flto=auto -march=native -mtune=native -W -Wall -Wextra -O2 -fomit-frame-pointer -fno-plt -pipe -Iinclude/ -IOpenCL/ -Ideps/LZMA-SDK/C -Ideps/zlib -Ideps/zlib/contrib -Ideps/OpenCL-Headers -DWITH_BRAIN -Ideps/xxHash -DWITH_CUBIN -Ideps/unrar -DWITH_HWMON src/rp.c -o obj/rp.NATIVE.o -fpic\n",
            "gcc -c -std=gnu99 -flto=auto -march=native -mtune=native -W -Wall -Wextra -O2 -fomit-frame-pointer -fno-plt -pipe -Iinclude/ -IOpenCL/ -Ideps/LZMA-SDK/C -Ideps/zlib -Ideps/zlib/contrib -Ideps/OpenCL-Headers -DWITH_BRAIN -Ideps/xxHash -DWITH_CUBIN -Ideps/unrar -DWITH_HWMON src/rp_cpu.c -o obj/rp_cpu.NATIVE.o -fpic\n",
            "gcc -c -std=gnu99 -flto=auto -march=native -mtune=native -W -Wall -Wextra -O2 -fomit-frame-pointer -fno-plt -pipe -Iinclude/ -IOpenCL/ -Ideps/LZMA-SDK/C -Ideps/zlib -Ideps/zlib/contrib -Ideps/OpenCL-Headers -DWITH_BRAIN -Ideps/xxHash -DWITH_CUBIN -Ideps/unrar -DWITH_HWMON src/selftest.c -o obj/selftest.NATIVE.o -fpic\n",
            "gcc -c -std=gnu99 -flto=auto -march=native -mtune=native -W -Wall -Wextra -O2 -fomit-frame-pointer -fno-plt -pipe -Iinclude/ -IOpenCL/ -Ideps/LZMA-SDK/C -Ideps/zlib -Ideps/zlib/contrib -Ideps/OpenCL-Headers -DWITH_BRAIN -Ideps/xxHash -DWITH_CUBIN -Ideps/unrar -DWITH_HWMON src/slow_candidates.c -o obj/slow_candidates.NATIVE.o -fpic\n",
            "gcc -c -std=gnu99 -flto=auto -march=native -mtune=native -W -Wall -Wextra -O2 -fomit-frame-pointer -fno-plt -pipe -Iinclude/ -IOpenCL/ -Ideps/LZMA-SDK/C -Ideps/zlib -Ideps/zlib/contrib -Ideps/OpenCL-Headers -DWITH_BRAIN -Ideps/xxHash -DWITH_CUBIN -Ideps/unrar -DWITH_HWMON src/shared.c -o obj/shared.NATIVE.o -fpic\n",
            "gcc -c -std=gnu99 -flto=auto -march=native -mtune=native -W -Wall -Wextra -O2 -fomit-frame-pointer -fno-plt -pipe -Iinclude/ -IOpenCL/ -Ideps/LZMA-SDK/C -Ideps/zlib -Ideps/zlib/contrib -Ideps/OpenCL-Headers -DWITH_BRAIN -Ideps/xxHash -DWITH_CUBIN -Ideps/unrar -DWITH_HWMON src/status.c -o obj/status.NATIVE.o -fpic\n",
            "gcc -c -std=gnu99 -flto=auto -march=native -mtune=native -W -Wall -Wextra -O2 -fomit-frame-pointer -fno-plt -pipe -Iinclude/ -IOpenCL/ -Ideps/LZMA-SDK/C -Ideps/zlib -Ideps/zlib/contrib -Ideps/OpenCL-Headers -DWITH_BRAIN -Ideps/xxHash -DWITH_CUBIN -Ideps/unrar -DWITH_HWMON src/stdout.c -o obj/stdout.NATIVE.o -fpic\n",
            "gcc -c -std=gnu99 -flto=auto -march=native -mtune=native -W -Wall -Wextra -O2 -fomit-frame-pointer -fno-plt -pipe -Iinclude/ -IOpenCL/ -Ideps/LZMA-SDK/C -Ideps/zlib -Ideps/zlib/contrib -Ideps/OpenCL-Headers -DWITH_BRAIN -Ideps/xxHash -DWITH_CUBIN -Ideps/unrar -DWITH_HWMON src/straight.c -o obj/straight.NATIVE.o -fpic\n",
            "gcc -c -std=gnu99 -flto=auto -march=native -mtune=native -W -Wall -Wextra -O2 -fomit-frame-pointer -fno-plt -pipe -Iinclude/ -IOpenCL/ -Ideps/LZMA-SDK/C -Ideps/zlib -Ideps/zlib/contrib -Ideps/OpenCL-Headers -DWITH_BRAIN -Ideps/xxHash -DWITH_CUBIN -Ideps/unrar -DWITH_HWMON src/generic.c -o obj/generic.NATIVE.o -fpic\n",
            "gcc -c -std=gnu99 -flto=auto -march=native -mtune=native -W -Wall -Wextra -O2 -fomit-frame-pointer -fno-plt -pipe -Iinclude/ -IOpenCL/ -Ideps/LZMA-SDK/C -Ideps/zlib -Ideps/zlib/contrib -Ideps/OpenCL-Headers -DWITH_BRAIN -Ideps/xxHash -DWITH_CUBIN -Ideps/unrar -DWITH_HWMON src/terminal.c -o obj/terminal.NATIVE.o -fpic\n",
            "gcc -c -std=gnu99 -flto=auto -march=native -mtune=native -W -Wall -Wextra -O2 -fomit-frame-pointer -fno-plt -pipe -Iinclude/ -IOpenCL/ -Ideps/LZMA-SDK/C -Ideps/zlib -Ideps/zlib/contrib -Ideps/OpenCL-Headers -DWITH_BRAIN -Ideps/xxHash -DWITH_CUBIN -Ideps/unrar -DWITH_HWMON src/thread.c -o obj/thread.NATIVE.o -fpic\n",
            "gcc -c -std=gnu99 -flto=auto -march=native -mtune=native -W -Wall -Wextra -O2 -fomit-frame-pointer -fno-plt -pipe -Iinclude/ -IOpenCL/ -Ideps/LZMA-SDK/C -Ideps/zlib -Ideps/zlib/contrib -Ideps/OpenCL-Headers -DWITH_BRAIN -Ideps/xxHash -DWITH_CUBIN -Ideps/unrar -DWITH_HWMON src/timer.c -o obj/timer.NATIVE.o -fpic\n",
            "gcc -c -std=gnu99 -flto=auto -march=native -mtune=native -W -Wall -Wextra -O2 -fomit-frame-pointer -fno-plt -pipe -Iinclude/ -IOpenCL/ -Ideps/LZMA-SDK/C -Ideps/zlib -Ideps/zlib/contrib -Ideps/OpenCL-Headers -DWITH_BRAIN -Ideps/xxHash -DWITH_CUBIN -Ideps/unrar -DWITH_HWMON src/tuningdb.c -o obj/tuningdb.NATIVE.o -fpic\n",
            "gcc -c -std=gnu99 -flto=auto -march=native -mtune=native -W -Wall -Wextra -O2 -fomit-frame-pointer -fno-plt -pipe -Iinclude/ -IOpenCL/ -Ideps/LZMA-SDK/C -Ideps/zlib -Ideps/zlib/contrib -Ideps/OpenCL-Headers -DWITH_BRAIN -Ideps/xxHash -DWITH_CUBIN -Ideps/unrar -DWITH_HWMON src/usage.c -o obj/usage.NATIVE.o -fpic\n",
            "gcc -c -std=gnu99 -flto=auto -march=native -mtune=native -W -Wall -Wextra -O2 -fomit-frame-pointer -fno-plt -pipe -Iinclude/ -IOpenCL/ -Ideps/LZMA-SDK/C -Ideps/zlib -Ideps/zlib/contrib -Ideps/OpenCL-Headers -DWITH_BRAIN -Ideps/xxHash -DWITH_CUBIN -Ideps/unrar -DWITH_HWMON src/user_options.c -o obj/user_options.NATIVE.o -fpic\n",
            "gcc -c -std=gnu99 -flto=auto -march=native -mtune=native -W -Wall -Wextra -O2 -fomit-frame-pointer -fno-plt -pipe -Iinclude/ -IOpenCL/ -Ideps/LZMA-SDK/C -Ideps/zlib -Ideps/zlib/contrib -Ideps/OpenCL-Headers -DWITH_BRAIN -Ideps/xxHash -DWITH_CUBIN -Ideps/unrar -DWITH_HWMON src/wordlist.c -o obj/wordlist.NATIVE.o -fpic\n",
            "gcc -c -std=gnu99 -flto=auto -march=native -mtune=native -W -Wall -Wextra -O2 -fomit-frame-pointer -fno-plt -pipe -Iinclude/ -IOpenCL/ -Ideps/LZMA-SDK/C -Ideps/zlib -Ideps/zlib/contrib -Ideps/OpenCL-Headers -DWITH_BRAIN -Ideps/xxHash -DWITH_CUBIN -Ideps/unrar -DWITH_HWMON src/emu_general.c -o obj/emu_general.NATIVE.o -fpic\n",
            "gcc -c -std=gnu99 -flto=auto -march=native -mtune=native -W -Wall -Wextra -O2 -fomit-frame-pointer -fno-plt -pipe -Iinclude/ -IOpenCL/ -Ideps/LZMA-SDK/C -Ideps/zlib -Ideps/zlib/contrib -Ideps/OpenCL-Headers -DWITH_BRAIN -Ideps/xxHash -DWITH_CUBIN -Ideps/unrar -DWITH_HWMON src/emu_inc_common.c -o obj/emu_inc_common.NATIVE.o -fpic\n",
            "gcc -c -std=gnu99 -flto=auto -march=native -mtune=native -W -Wall -Wextra -O2 -fomit-frame-pointer -fno-plt -pipe -Iinclude/ -IOpenCL/ -Ideps/LZMA-SDK/C -Ideps/zlib -Ideps/zlib/contrib -Ideps/OpenCL-Headers -DWITH_BRAIN -Ideps/xxHash -DWITH_CUBIN -Ideps/unrar -DWITH_HWMON src/emu_inc_platform.c -o obj/emu_inc_platform.NATIVE.o -fpic\n",
            "gcc -c -std=gnu99 -flto=auto -march=native -mtune=native -W -Wall -Wextra -O2 -fomit-frame-pointer -fno-plt -pipe -Iinclude/ -IOpenCL/ -Ideps/LZMA-SDK/C -Ideps/zlib -Ideps/zlib/contrib -Ideps/OpenCL-Headers -DWITH_BRAIN -Ideps/xxHash -DWITH_CUBIN -Ideps/unrar -DWITH_HWMON src/emu_inc_scalar.c -o obj/emu_inc_scalar.NATIVE.o -fpic\n",
            "gcc -c -std=gnu99 -flto=auto -march=native -mtune=native -W -Wall -Wextra -O2 -fomit-frame-pointer -fno-plt -pipe -Iinclude/ -IOpenCL/ -Ideps/LZMA-SDK/C -Ideps/zlib -Ideps/zlib/contrib -Ideps/OpenCL-Headers -DWITH_BRAIN -Ideps/xxHash -DWITH_CUBIN -Ideps/unrar -DWITH_HWMON src/emu_inc_simd.c -o obj/emu_inc_simd.NATIVE.o -fpic\n",
            "gcc -c -std=gnu99 -flto=auto -march=native -mtune=native -W -Wall -Wextra -O2 -fomit-frame-pointer -fno-plt -pipe -Iinclude/ -IOpenCL/ -Ideps/LZMA-SDK/C -Ideps/zlib -Ideps/zlib/contrib -Ideps/OpenCL-Headers -DWITH_BRAIN -Ideps/xxHash -DWITH_CUBIN -Ideps/unrar -DWITH_HWMON src/emu_inc_rp_common.c -o obj/emu_inc_rp_common.NATIVE.o -fpic\n",
            "gcc -c -std=gnu99 -flto=auto -march=native -mtune=native -W -Wall -Wextra -O2 -fomit-frame-pointer -fno-plt -pipe -Iinclude/ -IOpenCL/ -Ideps/LZMA-SDK/C -Ideps/zlib -Ideps/zlib/contrib -Ideps/OpenCL-Headers -DWITH_BRAIN -Ideps/xxHash -DWITH_CUBIN -Ideps/unrar -DWITH_HWMON src/emu_inc_rp.c -o obj/emu_inc_rp.NATIVE.o -fpic\n",
            "gcc -c -std=gnu99 -flto=auto -march=native -mtune=native -W -Wall -Wextra -O2 -fomit-frame-pointer -fno-plt -pipe -Iinclude/ -IOpenCL/ -Ideps/LZMA-SDK/C -Ideps/zlib -Ideps/zlib/contrib -Ideps/OpenCL-Headers -DWITH_BRAIN -Ideps/xxHash -DWITH_CUBIN -Ideps/unrar -DWITH_HWMON src/emu_inc_rp_optimized.c -o obj/emu_inc_rp_optimized.NATIVE.o -fpic\n",
            "gcc -c -std=gnu99 -flto=auto -march=native -mtune=native -W -Wall -Wextra -O2 -fomit-frame-pointer -fno-plt -pipe -Iinclude/ -IOpenCL/ -Ideps/LZMA-SDK/C -Ideps/zlib -Ideps/zlib/contrib -Ideps/OpenCL-Headers -DWITH_BRAIN -Ideps/xxHash -DWITH_CUBIN -Ideps/unrar -DWITH_HWMON src/emu_inc_hash_md4.c -o obj/emu_inc_hash_md4.NATIVE.o -fpic\n",
            "gcc -c -std=gnu99 -flto=auto -march=native -mtune=native -W -Wall -Wextra -O2 -fomit-frame-pointer -fno-plt -pipe -Iinclude/ -IOpenCL/ -Ideps/LZMA-SDK/C -Ideps/zlib -Ideps/zlib/contrib -Ideps/OpenCL-Headers -DWITH_BRAIN -Ideps/xxHash -DWITH_CUBIN -Ideps/unrar -DWITH_HWMON src/emu_inc_hash_md5.c -o obj/emu_inc_hash_md5.NATIVE.o -fpic\n",
            "gcc -c -std=gnu99 -flto=auto -march=native -mtune=native -W -Wall -Wextra -O2 -fomit-frame-pointer -fno-plt -pipe -Iinclude/ -IOpenCL/ -Ideps/LZMA-SDK/C -Ideps/zlib -Ideps/zlib/contrib -Ideps/OpenCL-Headers -DWITH_BRAIN -Ideps/xxHash -DWITH_CUBIN -Ideps/unrar -DWITH_HWMON src/emu_inc_hash_ripemd160.c -o obj/emu_inc_hash_ripemd160.NATIVE.o -fpic\n",
            "gcc -c -std=gnu99 -flto=auto -march=native -mtune=native -W -Wall -Wextra -O2 -fomit-frame-pointer -fno-plt -pipe -Iinclude/ -IOpenCL/ -Ideps/LZMA-SDK/C -Ideps/zlib -Ideps/zlib/contrib -Ideps/OpenCL-Headers -DWITH_BRAIN -Ideps/xxHash -DWITH_CUBIN -Ideps/unrar -DWITH_HWMON src/emu_inc_hash_sha1.c -o obj/emu_inc_hash_sha1.NATIVE.o -fpic\n",
            "gcc -c -std=gnu99 -flto=auto -march=native -mtune=native -W -Wall -Wextra -O2 -fomit-frame-pointer -fno-plt -pipe -Iinclude/ -IOpenCL/ -Ideps/LZMA-SDK/C -Ideps/zlib -Ideps/zlib/contrib -Ideps/OpenCL-Headers -DWITH_BRAIN -Ideps/xxHash -DWITH_CUBIN -Ideps/unrar -DWITH_HWMON src/emu_inc_hash_sha256.c -o obj/emu_inc_hash_sha256.NATIVE.o -fpic\n",
            "gcc -c -std=gnu99 -flto=auto -march=native -mtune=native -W -Wall -Wextra -O2 -fomit-frame-pointer -fno-plt -pipe -Iinclude/ -IOpenCL/ -Ideps/LZMA-SDK/C -Ideps/zlib -Ideps/zlib/contrib -Ideps/OpenCL-Headers -DWITH_BRAIN -Ideps/xxHash -DWITH_CUBIN -Ideps/unrar -DWITH_HWMON src/emu_inc_hash_sha384.c -o obj/emu_inc_hash_sha384.NATIVE.o -fpic\n",
            "gcc -c -std=gnu99 -flto=auto -march=native -mtune=native -W -Wall -Wextra -O2 -fomit-frame-pointer -fno-plt -pipe -Iinclude/ -IOpenCL/ -Ideps/LZMA-SDK/C -Ideps/zlib -Ideps/zlib/contrib -Ideps/OpenCL-Headers -DWITH_BRAIN -Ideps/xxHash -DWITH_CUBIN -Ideps/unrar -DWITH_HWMON src/emu_inc_hash_sha512.c -o obj/emu_inc_hash_sha512.NATIVE.o -fpic\n",
            "gcc -c -std=gnu99 -flto=auto -march=native -mtune=native -W -Wall -Wextra -O2 -fomit-frame-pointer -fno-plt -pipe -Iinclude/ -IOpenCL/ -Ideps/LZMA-SDK/C -Ideps/zlib -Ideps/zlib/contrib -Ideps/OpenCL-Headers -DWITH_BRAIN -Ideps/xxHash -DWITH_CUBIN -Ideps/unrar -DWITH_HWMON src/emu_inc_hash_streebog256.c -o obj/emu_inc_hash_streebog256.NATIVE.o -fpic\n",
            "gcc -c -std=gnu99 -flto=auto -march=native -mtune=native -W -Wall -Wextra -O2 -fomit-frame-pointer -fno-plt -pipe -Iinclude/ -IOpenCL/ -Ideps/LZMA-SDK/C -Ideps/zlib -Ideps/zlib/contrib -Ideps/OpenCL-Headers -DWITH_BRAIN -Ideps/xxHash -DWITH_CUBIN -Ideps/unrar -DWITH_HWMON src/emu_inc_hash_streebog512.c -o obj/emu_inc_hash_streebog512.NATIVE.o -fpic\n",
            "gcc -c -std=gnu99 -flto=auto -march=native -mtune=native -W -Wall -Wextra -O2 -fomit-frame-pointer -fno-plt -pipe -Iinclude/ -IOpenCL/ -Ideps/LZMA-SDK/C -Ideps/zlib -Ideps/zlib/contrib -Ideps/OpenCL-Headers -DWITH_BRAIN -Ideps/xxHash -DWITH_CUBIN -Ideps/unrar -DWITH_HWMON src/emu_inc_ecc_secp256k1.c -o obj/emu_inc_ecc_secp256k1.NATIVE.o -fpic\n",
            "gcc -c -std=gnu99 -flto=auto -march=native -mtune=native -W -Wall -Wextra -O2 -fomit-frame-pointer -fno-plt -pipe -Iinclude/ -IOpenCL/ -Ideps/LZMA-SDK/C -Ideps/zlib -Ideps/zlib/contrib -Ideps/OpenCL-Headers -DWITH_BRAIN -Ideps/xxHash -DWITH_CUBIN -Ideps/unrar -DWITH_HWMON src/emu_inc_bignum_operations.c -o obj/emu_inc_bignum_operations.NATIVE.o -fpic\n",
            "gcc -c -std=gnu99 -flto=auto -march=native -mtune=native -W -Wall -Wextra -O2 -fomit-frame-pointer -fno-plt -pipe -Iinclude/ -IOpenCL/ -Ideps/LZMA-SDK/C -Ideps/zlib -Ideps/zlib/contrib -Ideps/OpenCL-Headers -DWITH_BRAIN -Ideps/xxHash -DWITH_CUBIN -Ideps/unrar -DWITH_HWMON src/emu_inc_cipher_aes.c -o obj/emu_inc_cipher_aes.NATIVE.o -fpic\n",
            "gcc -c -std=gnu99 -flto=auto -march=native -mtune=native -W -Wall -Wextra -O2 -fomit-frame-pointer -fno-plt -pipe -Iinclude/ -IOpenCL/ -Ideps/LZMA-SDK/C -Ideps/zlib -Ideps/zlib/contrib -Ideps/OpenCL-Headers -DWITH_BRAIN -Ideps/xxHash -DWITH_CUBIN -Ideps/unrar -DWITH_HWMON src/emu_inc_cipher_camellia.c -o obj/emu_inc_cipher_camellia.NATIVE.o -fpic\n",
            "gcc -c -std=gnu99 -flto=auto -march=native -mtune=native -W -Wall -Wextra -O2 -fomit-frame-pointer -fno-plt -pipe -Iinclude/ -IOpenCL/ -Ideps/LZMA-SDK/C -Ideps/zlib -Ideps/zlib/contrib -Ideps/OpenCL-Headers -DWITH_BRAIN -Ideps/xxHash -DWITH_CUBIN -Ideps/unrar -DWITH_HWMON src/emu_inc_cipher_des.c -o obj/emu_inc_cipher_des.NATIVE.o -fpic\n",
            "gcc -c -std=gnu99 -flto=auto -march=native -mtune=native -W -Wall -Wextra -O2 -fomit-frame-pointer -fno-plt -pipe -Iinclude/ -IOpenCL/ -Ideps/LZMA-SDK/C -Ideps/zlib -Ideps/zlib/contrib -Ideps/OpenCL-Headers -DWITH_BRAIN -Ideps/xxHash -DWITH_CUBIN -Ideps/unrar -DWITH_HWMON src/emu_inc_cipher_kuznyechik.c -o obj/emu_inc_cipher_kuznyechik.NATIVE.o -fpic\n",
            "gcc -c -std=gnu99 -flto=auto -march=native -mtune=native -W -Wall -Wextra -O2 -fomit-frame-pointer -fno-plt -pipe -Iinclude/ -IOpenCL/ -Ideps/LZMA-SDK/C -Ideps/zlib -Ideps/zlib/contrib -Ideps/OpenCL-Headers -DWITH_BRAIN -Ideps/xxHash -DWITH_CUBIN -Ideps/unrar -DWITH_HWMON src/emu_inc_cipher_serpent.c -o obj/emu_inc_cipher_serpent.NATIVE.o -fpic\n",
            "gcc -c -std=gnu99 -flto=auto -march=native -mtune=native -W -Wall -Wextra -O2 -fomit-frame-pointer -fno-plt -pipe -Iinclude/ -IOpenCL/ -Ideps/LZMA-SDK/C -Ideps/zlib -Ideps/zlib/contrib -Ideps/OpenCL-Headers -DWITH_BRAIN -Ideps/xxHash -DWITH_CUBIN -Ideps/unrar -DWITH_HWMON src/emu_inc_cipher_twofish.c -o obj/emu_inc_cipher_twofish.NATIVE.o -fpic\n",
            "gcc -c -std=gnu99 -flto=auto -march=native -mtune=native -W -Wall -Wextra -O2 -fomit-frame-pointer -fno-plt -pipe -Iinclude/ -IOpenCL/ -Ideps/LZMA-SDK/C -Ideps/zlib -Ideps/zlib/contrib -Ideps/OpenCL-Headers -DWITH_BRAIN -Ideps/xxHash -DWITH_CUBIN -Ideps/unrar -DWITH_HWMON src/emu_inc_hash_base58.c -o obj/emu_inc_hash_base58.NATIVE.o -fpic\n",
            "gcc -c -std=gnu99 -flto=auto -march=native -mtune=native -W -Wall -Wextra -O2 -fomit-frame-pointer -fno-plt -pipe -Iinclude/ -IOpenCL/ -Ideps/LZMA-SDK/C -Ideps/zlib -Ideps/zlib/contrib -Ideps/OpenCL-Headers -DWITH_BRAIN -Ideps/xxHash -DWITH_CUBIN -Ideps/unrar -DWITH_HWMON src/brain.c -o obj/brain.NATIVE.o -fpic\n",
            "gcc -c -std=gnu99 -flto=auto -march=native -mtune=native -W -Wall -Wextra -O2 -fomit-frame-pointer -fno-plt -pipe -Iinclude/ -IOpenCL/ -Ideps/LZMA-SDK/C -Ideps/zlib -Ideps/zlib/contrib -Ideps/OpenCL-Headers -DWITH_BRAIN -Ideps/xxHash -DWITH_CUBIN -Ideps/unrar -DWITH_HWMON -D_7ZIP_ST -Wno-misleading-indentation deps/LZMA-SDK/C/7zCrc.c -o obj/7zCrc.LZMA.NATIVE.o -fpic\n",
            "gcc -c -std=gnu99 -flto=auto -march=native -mtune=native -W -Wall -Wextra -O2 -fomit-frame-pointer -fno-plt -pipe -Iinclude/ -IOpenCL/ -Ideps/LZMA-SDK/C -Ideps/zlib -Ideps/zlib/contrib -Ideps/OpenCL-Headers -DWITH_BRAIN -Ideps/xxHash -DWITH_CUBIN -Ideps/unrar -DWITH_HWMON -D_7ZIP_ST -Wno-misleading-indentation deps/LZMA-SDK/C/7zCrcOpt.c -o obj/7zCrcOpt.LZMA.NATIVE.o -fpic\n",
            "gcc -c -std=gnu99 -flto=auto -march=native -mtune=native -W -Wall -Wextra -O2 -fomit-frame-pointer -fno-plt -pipe -Iinclude/ -IOpenCL/ -Ideps/LZMA-SDK/C -Ideps/zlib -Ideps/zlib/contrib -Ideps/OpenCL-Headers -DWITH_BRAIN -Ideps/xxHash -DWITH_CUBIN -Ideps/unrar -DWITH_HWMON -D_7ZIP_ST -Wno-misleading-indentation deps/LZMA-SDK/C/7zFile.c -o obj/7zFile.LZMA.NATIVE.o -fpic\n",
            "gcc -c -std=gnu99 -flto=auto -march=native -mtune=native -W -Wall -Wextra -O2 -fomit-frame-pointer -fno-plt -pipe -Iinclude/ -IOpenCL/ -Ideps/LZMA-SDK/C -Ideps/zlib -Ideps/zlib/contrib -Ideps/OpenCL-Headers -DWITH_BRAIN -Ideps/xxHash -DWITH_CUBIN -Ideps/unrar -DWITH_HWMON -D_7ZIP_ST -Wno-misleading-indentation deps/LZMA-SDK/C/7zStream.c -o obj/7zStream.LZMA.NATIVE.o -fpic\n",
            "gcc -c -std=gnu99 -flto=auto -march=native -mtune=native -W -Wall -Wextra -O2 -fomit-frame-pointer -fno-plt -pipe -Iinclude/ -IOpenCL/ -Ideps/LZMA-SDK/C -Ideps/zlib -Ideps/zlib/contrib -Ideps/OpenCL-Headers -DWITH_BRAIN -Ideps/xxHash -DWITH_CUBIN -Ideps/unrar -DWITH_HWMON -D_7ZIP_ST -Wno-misleading-indentation deps/LZMA-SDK/C/Alloc.c -o obj/Alloc.LZMA.NATIVE.o -fpic\n",
            "gcc -c -std=gnu99 -flto=auto -march=native -mtune=native -W -Wall -Wextra -O2 -fomit-frame-pointer -fno-plt -pipe -Iinclude/ -IOpenCL/ -Ideps/LZMA-SDK/C -Ideps/zlib -Ideps/zlib/contrib -Ideps/OpenCL-Headers -DWITH_BRAIN -Ideps/xxHash -DWITH_CUBIN -Ideps/unrar -DWITH_HWMON -D_7ZIP_ST -Wno-misleading-indentation deps/LZMA-SDK/C/Bra.c -o obj/Bra.LZMA.NATIVE.o -fpic\n",
            "gcc -c -std=gnu99 -flto=auto -march=native -mtune=native -W -Wall -Wextra -O2 -fomit-frame-pointer -fno-plt -pipe -Iinclude/ -IOpenCL/ -Ideps/LZMA-SDK/C -Ideps/zlib -Ideps/zlib/contrib -Ideps/OpenCL-Headers -DWITH_BRAIN -Ideps/xxHash -DWITH_CUBIN -Ideps/unrar -DWITH_HWMON -D_7ZIP_ST -Wno-misleading-indentation deps/LZMA-SDK/C/Bra86.c -o obj/Bra86.LZMA.NATIVE.o -fpic\n",
            "gcc -c -std=gnu99 -flto=auto -march=native -mtune=native -W -Wall -Wextra -O2 -fomit-frame-pointer -fno-plt -pipe -Iinclude/ -IOpenCL/ -Ideps/LZMA-SDK/C -Ideps/zlib -Ideps/zlib/contrib -Ideps/OpenCL-Headers -DWITH_BRAIN -Ideps/xxHash -DWITH_CUBIN -Ideps/unrar -DWITH_HWMON -D_7ZIP_ST -Wno-misleading-indentation deps/LZMA-SDK/C/BraIA64.c -o obj/BraIA64.LZMA.NATIVE.o -fpic\n",
            "gcc -c -std=gnu99 -flto=auto -march=native -mtune=native -W -Wall -Wextra -O2 -fomit-frame-pointer -fno-plt -pipe -Iinclude/ -IOpenCL/ -Ideps/LZMA-SDK/C -Ideps/zlib -Ideps/zlib/contrib -Ideps/OpenCL-Headers -DWITH_BRAIN -Ideps/xxHash -DWITH_CUBIN -Ideps/unrar -DWITH_HWMON -D_7ZIP_ST -Wno-misleading-indentation deps/LZMA-SDK/C/CpuArch.c -o obj/CpuArch.LZMA.NATIVE.o -fpic\n",
            "gcc -c -std=gnu99 -flto=auto -march=native -mtune=native -W -Wall -Wextra -O2 -fomit-frame-pointer -fno-plt -pipe -Iinclude/ -IOpenCL/ -Ideps/LZMA-SDK/C -Ideps/zlib -Ideps/zlib/contrib -Ideps/OpenCL-Headers -DWITH_BRAIN -Ideps/xxHash -DWITH_CUBIN -Ideps/unrar -DWITH_HWMON -D_7ZIP_ST -Wno-misleading-indentation deps/LZMA-SDK/C/Delta.c -o obj/Delta.LZMA.NATIVE.o -fpic\n",
            "gcc -c -std=gnu99 -flto=auto -march=native -mtune=native -W -Wall -Wextra -O2 -fomit-frame-pointer -fno-plt -pipe -Iinclude/ -IOpenCL/ -Ideps/LZMA-SDK/C -Ideps/zlib -Ideps/zlib/contrib -Ideps/OpenCL-Headers -DWITH_BRAIN -Ideps/xxHash -DWITH_CUBIN -Ideps/unrar -DWITH_HWMON -D_7ZIP_ST -Wno-misleading-indentation deps/LZMA-SDK/C/LzmaDec.c -o obj/LzmaDec.LZMA.NATIVE.o -fpic\n",
            "gcc -c -std=gnu99 -flto=auto -march=native -mtune=native -W -Wall -Wextra -O2 -fomit-frame-pointer -fno-plt -pipe -Iinclude/ -IOpenCL/ -Ideps/LZMA-SDK/C -Ideps/zlib -Ideps/zlib/contrib -Ideps/OpenCL-Headers -DWITH_BRAIN -Ideps/xxHash -DWITH_CUBIN -Ideps/unrar -DWITH_HWMON -D_7ZIP_ST -Wno-misleading-indentation deps/LZMA-SDK/C/Lzma2Dec.c -o obj/Lzma2Dec.LZMA.NATIVE.o -fpic\n",
            "gcc -c -std=gnu99 -flto=auto -march=native -mtune=native -W -Wall -Wextra -O2 -fomit-frame-pointer -fno-plt -pipe -Iinclude/ -IOpenCL/ -Ideps/LZMA-SDK/C -Ideps/zlib -Ideps/zlib/contrib -Ideps/OpenCL-Headers -DWITH_BRAIN -Ideps/xxHash -DWITH_CUBIN -Ideps/unrar -DWITH_HWMON -D_7ZIP_ST -Wno-misleading-indentation deps/LZMA-SDK/C/MtDec.c -o obj/MtDec.LZMA.NATIVE.o -fpic\n",
            "gcc -c -std=gnu99 -flto=auto -march=native -mtune=native -W -Wall -Wextra -O2 -fomit-frame-pointer -fno-plt -pipe -Iinclude/ -IOpenCL/ -Ideps/LZMA-SDK/C -Ideps/zlib -Ideps/zlib/contrib -Ideps/OpenCL-Headers -DWITH_BRAIN -Ideps/xxHash -DWITH_CUBIN -Ideps/unrar -DWITH_HWMON -D_7ZIP_ST -Wno-misleading-indentation deps/LZMA-SDK/C/Sha256.c -o obj/Sha256.LZMA.NATIVE.o -fpic\n",
            "gcc -c -std=gnu99 -flto=auto -march=native -mtune=native -W -Wall -Wextra -O2 -fomit-frame-pointer -fno-plt -pipe -Iinclude/ -IOpenCL/ -Ideps/LZMA-SDK/C -Ideps/zlib -Ideps/zlib/contrib -Ideps/OpenCL-Headers -DWITH_BRAIN -Ideps/xxHash -DWITH_CUBIN -Ideps/unrar -DWITH_HWMON -D_7ZIP_ST -Wno-misleading-indentation deps/LZMA-SDK/C/Sha256Opt.c -o obj/Sha256Opt.LZMA.NATIVE.o -fpic\n",
            "gcc -c -std=gnu99 -flto=auto -march=native -mtune=native -W -Wall -Wextra -O2 -fomit-frame-pointer -fno-plt -pipe -Iinclude/ -IOpenCL/ -Ideps/LZMA-SDK/C -Ideps/zlib -Ideps/zlib/contrib -Ideps/OpenCL-Headers -DWITH_BRAIN -Ideps/xxHash -DWITH_CUBIN -Ideps/unrar -DWITH_HWMON -D_7ZIP_ST -Wno-misleading-indentation deps/LZMA-SDK/C/Threads.c -o obj/Threads.LZMA.NATIVE.o -fpic\n",
            "gcc -c -std=gnu99 -flto=auto -march=native -mtune=native -W -Wall -Wextra -O2 -fomit-frame-pointer -fno-plt -pipe -Iinclude/ -IOpenCL/ -Ideps/LZMA-SDK/C -Ideps/zlib -Ideps/zlib/contrib -Ideps/OpenCL-Headers -DWITH_BRAIN -Ideps/xxHash -DWITH_CUBIN -Ideps/unrar -DWITH_HWMON -D_7ZIP_ST -Wno-misleading-indentation deps/LZMA-SDK/C/Xz.c -o obj/Xz.LZMA.NATIVE.o -fpic\n",
            "gcc -c -std=gnu99 -flto=auto -march=native -mtune=native -W -Wall -Wextra -O2 -fomit-frame-pointer -fno-plt -pipe -Iinclude/ -IOpenCL/ -Ideps/LZMA-SDK/C -Ideps/zlib -Ideps/zlib/contrib -Ideps/OpenCL-Headers -DWITH_BRAIN -Ideps/xxHash -DWITH_CUBIN -Ideps/unrar -DWITH_HWMON -D_7ZIP_ST -Wno-misleading-indentation deps/LZMA-SDK/C/XzCrc64.c -o obj/XzCrc64.LZMA.NATIVE.o -fpic\n",
            "gcc -c -std=gnu99 -flto=auto -march=native -mtune=native -W -Wall -Wextra -O2 -fomit-frame-pointer -fno-plt -pipe -Iinclude/ -IOpenCL/ -Ideps/LZMA-SDK/C -Ideps/zlib -Ideps/zlib/contrib -Ideps/OpenCL-Headers -DWITH_BRAIN -Ideps/xxHash -DWITH_CUBIN -Ideps/unrar -DWITH_HWMON -D_7ZIP_ST -Wno-misleading-indentation deps/LZMA-SDK/C/XzCrc64Opt.c -o obj/XzCrc64Opt.LZMA.NATIVE.o -fpic\n",
            "gcc -c -std=gnu99 -flto=auto -march=native -mtune=native -W -Wall -Wextra -O2 -fomit-frame-pointer -fno-plt -pipe -Iinclude/ -IOpenCL/ -Ideps/LZMA-SDK/C -Ideps/zlib -Ideps/zlib/contrib -Ideps/OpenCL-Headers -DWITH_BRAIN -Ideps/xxHash -DWITH_CUBIN -Ideps/unrar -DWITH_HWMON -D_7ZIP_ST -Wno-misleading-indentation deps/LZMA-SDK/C/XzDec.c -o obj/XzDec.LZMA.NATIVE.o -fpic\n",
            "gcc -c -std=gnu99 -flto=auto -march=native -mtune=native -W -Wall -Wextra -O2 -fomit-frame-pointer -fno-plt -pipe -Iinclude/ -IOpenCL/ -Ideps/LZMA-SDK/C -Ideps/zlib -Ideps/zlib/contrib -Ideps/OpenCL-Headers -DWITH_BRAIN -Ideps/xxHash -DWITH_CUBIN -Ideps/unrar -DWITH_HWMON -D_7ZIP_ST -Wno-misleading-indentation deps/LZMA-SDK/C/XzIn.c -o obj/XzIn.LZMA.NATIVE.o -fpic\n",
            "gcc -c -std=gnu99 -flto=auto -march=native -mtune=native -W -Wall -Wextra -O2 -fomit-frame-pointer -fno-plt -pipe -Iinclude/ -IOpenCL/ -Ideps/LZMA-SDK/C -Ideps/zlib -Ideps/zlib/contrib -Ideps/OpenCL-Headers -DWITH_BRAIN -Ideps/xxHash -DWITH_CUBIN -Ideps/unrar -DWITH_HWMON -Wno-implicit-fallthrough -Wno-implicit-function-declaration -Wno-unused-parameter -DIOAPI_NO_64 -DUNZ_BUFSIZE=262144 deps/zlib/adler32.c -o obj/adler32.ZLIB.NATIVE.o -fpic\n",
            "gcc -c -std=gnu99 -flto=auto -march=native -mtune=native -W -Wall -Wextra -O2 -fomit-frame-pointer -fno-plt -pipe -Iinclude/ -IOpenCL/ -Ideps/LZMA-SDK/C -Ideps/zlib -Ideps/zlib/contrib -Ideps/OpenCL-Headers -DWITH_BRAIN -Ideps/xxHash -DWITH_CUBIN -Ideps/unrar -DWITH_HWMON -Wno-implicit-fallthrough -Wno-implicit-function-declaration -Wno-unused-parameter -DIOAPI_NO_64 -DUNZ_BUFSIZE=262144 deps/zlib/crc32.c -o obj/crc32.ZLIB.NATIVE.o -fpic\n",
            "gcc -c -std=gnu99 -flto=auto -march=native -mtune=native -W -Wall -Wextra -O2 -fomit-frame-pointer -fno-plt -pipe -Iinclude/ -IOpenCL/ -Ideps/LZMA-SDK/C -Ideps/zlib -Ideps/zlib/contrib -Ideps/OpenCL-Headers -DWITH_BRAIN -Ideps/xxHash -DWITH_CUBIN -Ideps/unrar -DWITH_HWMON -Wno-implicit-fallthrough -Wno-implicit-function-declaration -Wno-unused-parameter -DIOAPI_NO_64 -DUNZ_BUFSIZE=262144 deps/zlib/deflate.c -o obj/deflate.ZLIB.NATIVE.o -fpic\n",
            "gcc -c -std=gnu99 -flto=auto -march=native -mtune=native -W -Wall -Wextra -O2 -fomit-frame-pointer -fno-plt -pipe -Iinclude/ -IOpenCL/ -Ideps/LZMA-SDK/C -Ideps/zlib -Ideps/zlib/contrib -Ideps/OpenCL-Headers -DWITH_BRAIN -Ideps/xxHash -DWITH_CUBIN -Ideps/unrar -DWITH_HWMON -Wno-implicit-fallthrough -Wno-implicit-function-declaration -Wno-unused-parameter -DIOAPI_NO_64 -DUNZ_BUFSIZE=262144 deps/zlib/inflate.c -o obj/inflate.ZLIB.NATIVE.o -fpic\n",
            "gcc -c -std=gnu99 -flto=auto -march=native -mtune=native -W -Wall -Wextra -O2 -fomit-frame-pointer -fno-plt -pipe -Iinclude/ -IOpenCL/ -Ideps/LZMA-SDK/C -Ideps/zlib -Ideps/zlib/contrib -Ideps/OpenCL-Headers -DWITH_BRAIN -Ideps/xxHash -DWITH_CUBIN -Ideps/unrar -DWITH_HWMON -Wno-implicit-fallthrough -Wno-implicit-function-declaration -Wno-unused-parameter -DIOAPI_NO_64 -DUNZ_BUFSIZE=262144 deps/zlib/inffast.c -o obj/inffast.ZLIB.NATIVE.o -fpic\n",
            "gcc -c -std=gnu99 -flto=auto -march=native -mtune=native -W -Wall -Wextra -O2 -fomit-frame-pointer -fno-plt -pipe -Iinclude/ -IOpenCL/ -Ideps/LZMA-SDK/C -Ideps/zlib -Ideps/zlib/contrib -Ideps/OpenCL-Headers -DWITH_BRAIN -Ideps/xxHash -DWITH_CUBIN -Ideps/unrar -DWITH_HWMON -Wno-implicit-fallthrough -Wno-implicit-function-declaration -Wno-unused-parameter -DIOAPI_NO_64 -DUNZ_BUFSIZE=262144 deps/zlib/inftrees.c -o obj/inftrees.ZLIB.NATIVE.o -fpic\n",
            "gcc -c -std=gnu99 -flto=auto -march=native -mtune=native -W -Wall -Wextra -O2 -fomit-frame-pointer -fno-plt -pipe -Iinclude/ -IOpenCL/ -Ideps/LZMA-SDK/C -Ideps/zlib -Ideps/zlib/contrib -Ideps/OpenCL-Headers -DWITH_BRAIN -Ideps/xxHash -DWITH_CUBIN -Ideps/unrar -DWITH_HWMON -Wno-implicit-fallthrough -Wno-implicit-function-declaration -Wno-unused-parameter -DIOAPI_NO_64 -DUNZ_BUFSIZE=262144 deps/zlib/trees.c -o obj/trees.ZLIB.NATIVE.o -fpic\n",
            "gcc -c -std=gnu99 -flto=auto -march=native -mtune=native -W -Wall -Wextra -O2 -fomit-frame-pointer -fno-plt -pipe -Iinclude/ -IOpenCL/ -Ideps/LZMA-SDK/C -Ideps/zlib -Ideps/zlib/contrib -Ideps/OpenCL-Headers -DWITH_BRAIN -Ideps/xxHash -DWITH_CUBIN -Ideps/unrar -DWITH_HWMON -Wno-implicit-fallthrough -Wno-implicit-function-declaration -Wno-unused-parameter -DIOAPI_NO_64 -DUNZ_BUFSIZE=262144 deps/zlib/gzread.c -o obj/gzread.ZLIB.NATIVE.o -fpic\n",
            "gcc -c -std=gnu99 -flto=auto -march=native -mtune=native -W -Wall -Wextra -O2 -fomit-frame-pointer -fno-plt -pipe -Iinclude/ -IOpenCL/ -Ideps/LZMA-SDK/C -Ideps/zlib -Ideps/zlib/contrib -Ideps/OpenCL-Headers -DWITH_BRAIN -Ideps/xxHash -DWITH_CUBIN -Ideps/unrar -DWITH_HWMON -Wno-implicit-fallthrough -Wno-implicit-function-declaration -Wno-unused-parameter -DIOAPI_NO_64 -DUNZ_BUFSIZE=262144 deps/zlib/gzwrite.c -o obj/gzwrite.ZLIB.NATIVE.o -fpic\n",
            "gcc -c -std=gnu99 -flto=auto -march=native -mtune=native -W -Wall -Wextra -O2 -fomit-frame-pointer -fno-plt -pipe -Iinclude/ -IOpenCL/ -Ideps/LZMA-SDK/C -Ideps/zlib -Ideps/zlib/contrib -Ideps/OpenCL-Headers -DWITH_BRAIN -Ideps/xxHash -DWITH_CUBIN -Ideps/unrar -DWITH_HWMON -Wno-implicit-fallthrough -Wno-implicit-function-declaration -Wno-unused-parameter -DIOAPI_NO_64 -DUNZ_BUFSIZE=262144 deps/zlib/gzclose.c -o obj/gzclose.ZLIB.NATIVE.o -fpic\n",
            "gcc -c -std=gnu99 -flto=auto -march=native -mtune=native -W -Wall -Wextra -O2 -fomit-frame-pointer -fno-plt -pipe -Iinclude/ -IOpenCL/ -Ideps/LZMA-SDK/C -Ideps/zlib -Ideps/zlib/contrib -Ideps/OpenCL-Headers -DWITH_BRAIN -Ideps/xxHash -DWITH_CUBIN -Ideps/unrar -DWITH_HWMON -Wno-implicit-fallthrough -Wno-implicit-function-declaration -Wno-unused-parameter -DIOAPI_NO_64 -DUNZ_BUFSIZE=262144 deps/zlib/zutil.c -o obj/zutil.ZLIB.NATIVE.o -fpic\n",
            "gcc -c -std=gnu99 -flto=auto -march=native -mtune=native -W -Wall -Wextra -O2 -fomit-frame-pointer -fno-plt -pipe -Iinclude/ -IOpenCL/ -Ideps/LZMA-SDK/C -Ideps/zlib -Ideps/zlib/contrib -Ideps/OpenCL-Headers -DWITH_BRAIN -Ideps/xxHash -DWITH_CUBIN -Ideps/unrar -DWITH_HWMON -Wno-implicit-fallthrough -Wno-implicit-function-declaration -Wno-unused-parameter -DIOAPI_NO_64 -DUNZ_BUFSIZE=262144 deps/zlib/gzlib.c -o obj/gzlib.ZLIB.NATIVE.o -fpic\n",
            "gcc -c -std=gnu99 -flto=auto -march=native -mtune=native -W -Wall -Wextra -O2 -fomit-frame-pointer -fno-plt -pipe -Iinclude/ -IOpenCL/ -Ideps/LZMA-SDK/C -Ideps/zlib -Ideps/zlib/contrib -Ideps/OpenCL-Headers -DWITH_BRAIN -Ideps/xxHash -DWITH_CUBIN -Ideps/unrar -DWITH_HWMON -Wno-implicit-fallthrough -Wno-implicit-function-declaration -Wno-unused-parameter -DIOAPI_NO_64 -DUNZ_BUFSIZE=262144 deps/zlib/contrib/minizip/unzip.c -o obj/contrib/minizip/unzip.ZLIB.NATIVE.o -fpic\n",
            "gcc -c -std=gnu99 -flto=auto -march=native -mtune=native -W -Wall -Wextra -O2 -fomit-frame-pointer -fno-plt -pipe -Iinclude/ -IOpenCL/ -Ideps/LZMA-SDK/C -Ideps/zlib -Ideps/zlib/contrib -Ideps/OpenCL-Headers -DWITH_BRAIN -Ideps/xxHash -DWITH_CUBIN -Ideps/unrar -DWITH_HWMON -Wno-implicit-fallthrough -Wno-implicit-function-declaration -Wno-unused-parameter -DIOAPI_NO_64 -DUNZ_BUFSIZE=262144 deps/zlib/contrib/minizip/ioapi.c -o obj/contrib/minizip/ioapi.ZLIB.NATIVE.o -fpic\n",
            "gcc -c -std=gnu99 -flto=auto -march=native -mtune=native -W -Wall -Wextra -O2 -fomit-frame-pointer -fno-plt -pipe -Iinclude/ -IOpenCL/ -Ideps/LZMA-SDK/C -Ideps/zlib -Ideps/zlib/contrib -Ideps/OpenCL-Headers -DWITH_BRAIN -Ideps/xxHash -DWITH_CUBIN -Ideps/unrar -DWITH_HWMON deps/xxHash/xxhash.c -o obj/xxhash.XXHASH.NATIVE.o -fpic\n",
            "g++ -c  -flto=auto -march=native -mtune=native -W -Wall -Wextra -O2 -fomit-frame-pointer -fno-plt -pipe -Iinclude/ -IOpenCL/ -Ideps/LZMA-SDK/C -Ideps/zlib -Ideps/zlib/contrib -Ideps/OpenCL-Headers -DWITH_BRAIN -Ideps/xxHash -DWITH_CUBIN -Ideps/unrar -DWITH_HWMON -Wno-class-memaccess -Wno-misleading-indentation -Wno-format-overflow -Wno-missing-braces -Wno-unused-variable -Wno-unused-parameter -Wno-unused-function -Wno-sign-compare -Wno-dangling-else -Wno-switch -Wno-parentheses -Wno-implicit-fallthrough -Wno-extra -Wno-unknown-pragmas -Wno-unused-but-set-variable -Wno-deprecated-declarations -Wno-misleading-indentation deps/unrar/strlist.cpp -o obj/strlist.UNRAR.NATIVE.o -fpic\n",
            "g++ -c  -flto=auto -march=native -mtune=native -W -Wall -Wextra -O2 -fomit-frame-pointer -fno-plt -pipe -Iinclude/ -IOpenCL/ -Ideps/LZMA-SDK/C -Ideps/zlib -Ideps/zlib/contrib -Ideps/OpenCL-Headers -DWITH_BRAIN -Ideps/xxHash -DWITH_CUBIN -Ideps/unrar -DWITH_HWMON -Wno-class-memaccess -Wno-misleading-indentation -Wno-format-overflow -Wno-missing-braces -Wno-unused-variable -Wno-unused-parameter -Wno-unused-function -Wno-sign-compare -Wno-dangling-else -Wno-switch -Wno-parentheses -Wno-implicit-fallthrough -Wno-extra -Wno-unknown-pragmas -Wno-unused-but-set-variable -Wno-deprecated-declarations -Wno-misleading-indentation deps/unrar/strfn.cpp -o obj/strfn.UNRAR.NATIVE.o -fpic\n",
            "g++ -c  -flto=auto -march=native -mtune=native -W -Wall -Wextra -O2 -fomit-frame-pointer -fno-plt -pipe -Iinclude/ -IOpenCL/ -Ideps/LZMA-SDK/C -Ideps/zlib -Ideps/zlib/contrib -Ideps/OpenCL-Headers -DWITH_BRAIN -Ideps/xxHash -DWITH_CUBIN -Ideps/unrar -DWITH_HWMON -Wno-class-memaccess -Wno-misleading-indentation -Wno-format-overflow -Wno-missing-braces -Wno-unused-variable -Wno-unused-parameter -Wno-unused-function -Wno-sign-compare -Wno-dangling-else -Wno-switch -Wno-parentheses -Wno-implicit-fallthrough -Wno-extra -Wno-unknown-pragmas -Wno-unused-but-set-variable -Wno-deprecated-declarations -Wno-misleading-indentation deps/unrar/pathfn.cpp -o obj/pathfn.UNRAR.NATIVE.o -fpic\n",
            "g++ -c  -flto=auto -march=native -mtune=native -W -Wall -Wextra -O2 -fomit-frame-pointer -fno-plt -pipe -Iinclude/ -IOpenCL/ -Ideps/LZMA-SDK/C -Ideps/zlib -Ideps/zlib/contrib -Ideps/OpenCL-Headers -DWITH_BRAIN -Ideps/xxHash -DWITH_CUBIN -Ideps/unrar -DWITH_HWMON -Wno-class-memaccess -Wno-misleading-indentation -Wno-format-overflow -Wno-missing-braces -Wno-unused-variable -Wno-unused-parameter -Wno-unused-function -Wno-sign-compare -Wno-dangling-else -Wno-switch -Wno-parentheses -Wno-implicit-fallthrough -Wno-extra -Wno-unknown-pragmas -Wno-unused-but-set-variable -Wno-deprecated-declarations -Wno-misleading-indentation deps/unrar/smallfn.cpp -o obj/smallfn.UNRAR.NATIVE.o -fpic\n",
            "g++ -c  -flto=auto -march=native -mtune=native -W -Wall -Wextra -O2 -fomit-frame-pointer -fno-plt -pipe -Iinclude/ -IOpenCL/ -Ideps/LZMA-SDK/C -Ideps/zlib -Ideps/zlib/contrib -Ideps/OpenCL-Headers -DWITH_BRAIN -Ideps/xxHash -DWITH_CUBIN -Ideps/unrar -DWITH_HWMON -Wno-class-memaccess -Wno-misleading-indentation -Wno-format-overflow -Wno-missing-braces -Wno-unused-variable -Wno-unused-parameter -Wno-unused-function -Wno-sign-compare -Wno-dangling-else -Wno-switch -Wno-parentheses -Wno-implicit-fallthrough -Wno-extra -Wno-unknown-pragmas -Wno-unused-but-set-variable -Wno-deprecated-declarations -Wno-misleading-indentation deps/unrar/global.cpp -o obj/global.UNRAR.NATIVE.o -fpic\n",
            "g++ -c  -flto=auto -march=native -mtune=native -W -Wall -Wextra -O2 -fomit-frame-pointer -fno-plt -pipe -Iinclude/ -IOpenCL/ -Ideps/LZMA-SDK/C -Ideps/zlib -Ideps/zlib/contrib -Ideps/OpenCL-Headers -DWITH_BRAIN -Ideps/xxHash -DWITH_CUBIN -Ideps/unrar -DWITH_HWMON -Wno-class-memaccess -Wno-misleading-indentation -Wno-format-overflow -Wno-missing-braces -Wno-unused-variable -Wno-unused-parameter -Wno-unused-function -Wno-sign-compare -Wno-dangling-else -Wno-switch -Wno-parentheses -Wno-implicit-fallthrough -Wno-extra -Wno-unknown-pragmas -Wno-unused-but-set-variable -Wno-deprecated-declarations -Wno-misleading-indentation deps/unrar/file.cpp -o obj/file.UNRAR.NATIVE.o -fpic\n",
            "g++ -c  -flto=auto -march=native -mtune=native -W -Wall -Wextra -O2 -fomit-frame-pointer -fno-plt -pipe -Iinclude/ -IOpenCL/ -Ideps/LZMA-SDK/C -Ideps/zlib -Ideps/zlib/contrib -Ideps/OpenCL-Headers -DWITH_BRAIN -Ideps/xxHash -DWITH_CUBIN -Ideps/unrar -DWITH_HWMON -Wno-class-memaccess -Wno-misleading-indentation -Wno-format-overflow -Wno-missing-braces -Wno-unused-variable -Wno-unused-parameter -Wno-unused-function -Wno-sign-compare -Wno-dangling-else -Wno-switch -Wno-parentheses -Wno-implicit-fallthrough -Wno-extra -Wno-unknown-pragmas -Wno-unused-but-set-variable -Wno-deprecated-declarations -Wno-misleading-indentation deps/unrar/filefn.cpp -o obj/filefn.UNRAR.NATIVE.o -fpic\n",
            "g++ -c  -flto=auto -march=native -mtune=native -W -Wall -Wextra -O2 -fomit-frame-pointer -fno-plt -pipe -Iinclude/ -IOpenCL/ -Ideps/LZMA-SDK/C -Ideps/zlib -Ideps/zlib/contrib -Ideps/OpenCL-Headers -DWITH_BRAIN -Ideps/xxHash -DWITH_CUBIN -Ideps/unrar -DWITH_HWMON -Wno-class-memaccess -Wno-misleading-indentation -Wno-format-overflow -Wno-missing-braces -Wno-unused-variable -Wno-unused-parameter -Wno-unused-function -Wno-sign-compare -Wno-dangling-else -Wno-switch -Wno-parentheses -Wno-implicit-fallthrough -Wno-extra -Wno-unknown-pragmas -Wno-unused-but-set-variable -Wno-deprecated-declarations -Wno-misleading-indentation deps/unrar/filcreat.cpp -o obj/filcreat.UNRAR.NATIVE.o -fpic\n",
            "g++ -c  -flto=auto -march=native -mtune=native -W -Wall -Wextra -O2 -fomit-frame-pointer -fno-plt -pipe -Iinclude/ -IOpenCL/ -Ideps/LZMA-SDK/C -Ideps/zlib -Ideps/zlib/contrib -Ideps/OpenCL-Headers -DWITH_BRAIN -Ideps/xxHash -DWITH_CUBIN -Ideps/unrar -DWITH_HWMON -Wno-class-memaccess -Wno-misleading-indentation -Wno-format-overflow -Wno-missing-braces -Wno-unused-variable -Wno-unused-parameter -Wno-unused-function -Wno-sign-compare -Wno-dangling-else -Wno-switch -Wno-parentheses -Wno-implicit-fallthrough -Wno-extra -Wno-unknown-pragmas -Wno-unused-but-set-variable -Wno-deprecated-declarations -Wno-misleading-indentation deps/unrar/archive.cpp -o obj/archive.UNRAR.NATIVE.o -fpic\n",
            "g++ -c  -flto=auto -march=native -mtune=native -W -Wall -Wextra -O2 -fomit-frame-pointer -fno-plt -pipe -Iinclude/ -IOpenCL/ -Ideps/LZMA-SDK/C -Ideps/zlib -Ideps/zlib/contrib -Ideps/OpenCL-Headers -DWITH_BRAIN -Ideps/xxHash -DWITH_CUBIN -Ideps/unrar -DWITH_HWMON -Wno-class-memaccess -Wno-misleading-indentation -Wno-format-overflow -Wno-missing-braces -Wno-unused-variable -Wno-unused-parameter -Wno-unused-function -Wno-sign-compare -Wno-dangling-else -Wno-switch -Wno-parentheses -Wno-implicit-fallthrough -Wno-extra -Wno-unknown-pragmas -Wno-unused-but-set-variable -Wno-deprecated-declarations -Wno-misleading-indentation deps/unrar/arcread.cpp -o obj/arcread.UNRAR.NATIVE.o -fpic\n",
            "g++ -c  -flto=auto -march=native -mtune=native -W -Wall -Wextra -O2 -fomit-frame-pointer -fno-plt -pipe -Iinclude/ -IOpenCL/ -Ideps/LZMA-SDK/C -Ideps/zlib -Ideps/zlib/contrib -Ideps/OpenCL-Headers -DWITH_BRAIN -Ideps/xxHash -DWITH_CUBIN -Ideps/unrar -DWITH_HWMON -Wno-class-memaccess -Wno-misleading-indentation -Wno-format-overflow -Wno-missing-braces -Wno-unused-variable -Wno-unused-parameter -Wno-unused-function -Wno-sign-compare -Wno-dangling-else -Wno-switch -Wno-parentheses -Wno-implicit-fallthrough -Wno-extra -Wno-unknown-pragmas -Wno-unused-but-set-variable -Wno-deprecated-declarations -Wno-misleading-indentation deps/unrar/unicode.cpp -o obj/unicode.UNRAR.NATIVE.o -fpic\n",
            "g++ -c  -flto=auto -march=native -mtune=native -W -Wall -Wextra -O2 -fomit-frame-pointer -fno-plt -pipe -Iinclude/ -IOpenCL/ -Ideps/LZMA-SDK/C -Ideps/zlib -Ideps/zlib/contrib -Ideps/OpenCL-Headers -DWITH_BRAIN -Ideps/xxHash -DWITH_CUBIN -Ideps/unrar -DWITH_HWMON -Wno-class-memaccess -Wno-misleading-indentation -Wno-format-overflow -Wno-missing-braces -Wno-unused-variable -Wno-unused-parameter -Wno-unused-function -Wno-sign-compare -Wno-dangling-else -Wno-switch -Wno-parentheses -Wno-implicit-fallthrough -Wno-extra -Wno-unknown-pragmas -Wno-unused-but-set-variable -Wno-deprecated-declarations -Wno-misleading-indentation deps/unrar/system.cpp -o obj/system.UNRAR.NATIVE.o -fpic\n",
            "g++ -c  -flto=auto -march=native -mtune=native -W -Wall -Wextra -O2 -fomit-frame-pointer -fno-plt -pipe -Iinclude/ -IOpenCL/ -Ideps/LZMA-SDK/C -Ideps/zlib -Ideps/zlib/contrib -Ideps/OpenCL-Headers -DWITH_BRAIN -Ideps/xxHash -DWITH_CUBIN -Ideps/unrar -DWITH_HWMON -Wno-class-memaccess -Wno-misleading-indentation -Wno-format-overflow -Wno-missing-braces -Wno-unused-variable -Wno-unused-parameter -Wno-unused-function -Wno-sign-compare -Wno-dangling-else -Wno-switch -Wno-parentheses -Wno-implicit-fallthrough -Wno-extra -Wno-unknown-pragmas -Wno-unused-but-set-variable -Wno-deprecated-declarations -Wno-misleading-indentation deps/unrar/isnt.cpp -o obj/isnt.UNRAR.NATIVE.o -fpic\n",
            "g++ -c  -flto=auto -march=native -mtune=native -W -Wall -Wextra -O2 -fomit-frame-pointer -fno-plt -pipe -Iinclude/ -IOpenCL/ -Ideps/LZMA-SDK/C -Ideps/zlib -Ideps/zlib/contrib -Ideps/OpenCL-Headers -DWITH_BRAIN -Ideps/xxHash -DWITH_CUBIN -Ideps/unrar -DWITH_HWMON -Wno-class-memaccess -Wno-misleading-indentation -Wno-format-overflow -Wno-missing-braces -Wno-unused-variable -Wno-unused-parameter -Wno-unused-function -Wno-sign-compare -Wno-dangling-else -Wno-switch -Wno-parentheses -Wno-implicit-fallthrough -Wno-extra -Wno-unknown-pragmas -Wno-unused-but-set-variable -Wno-deprecated-declarations -Wno-misleading-indentation deps/unrar/crypt.cpp -o obj/crypt.UNRAR.NATIVE.o -fpic\n",
            "g++ -c  -flto=auto -march=native -mtune=native -W -Wall -Wextra -O2 -fomit-frame-pointer -fno-plt -pipe -Iinclude/ -IOpenCL/ -Ideps/LZMA-SDK/C -Ideps/zlib -Ideps/zlib/contrib -Ideps/OpenCL-Headers -DWITH_BRAIN -Ideps/xxHash -DWITH_CUBIN -Ideps/unrar -DWITH_HWMON -Wno-class-memaccess -Wno-misleading-indentation -Wno-format-overflow -Wno-missing-braces -Wno-unused-variable -Wno-unused-parameter -Wno-unused-function -Wno-sign-compare -Wno-dangling-else -Wno-switch -Wno-parentheses -Wno-implicit-fallthrough -Wno-extra -Wno-unknown-pragmas -Wno-unused-but-set-variable -Wno-deprecated-declarations -Wno-misleading-indentation deps/unrar/crc.cpp -o obj/crc.UNRAR.NATIVE.o -fpic\n",
            "g++ -c  -flto=auto -march=native -mtune=native -W -Wall -Wextra -O2 -fomit-frame-pointer -fno-plt -pipe -Iinclude/ -IOpenCL/ -Ideps/LZMA-SDK/C -Ideps/zlib -Ideps/zlib/contrib -Ideps/OpenCL-Headers -DWITH_BRAIN -Ideps/xxHash -DWITH_CUBIN -Ideps/unrar -DWITH_HWMON -Wno-class-memaccess -Wno-misleading-indentation -Wno-format-overflow -Wno-missing-braces -Wno-unused-variable -Wno-unused-parameter -Wno-unused-function -Wno-sign-compare -Wno-dangling-else -Wno-switch -Wno-parentheses -Wno-implicit-fallthrough -Wno-extra -Wno-unknown-pragmas -Wno-unused-but-set-variable -Wno-deprecated-declarations -Wno-misleading-indentation deps/unrar/rawread.cpp -o obj/rawread.UNRAR.NATIVE.o -fpic\n",
            "g++ -c  -flto=auto -march=native -mtune=native -W -Wall -Wextra -O2 -fomit-frame-pointer -fno-plt -pipe -Iinclude/ -IOpenCL/ -Ideps/LZMA-SDK/C -Ideps/zlib -Ideps/zlib/contrib -Ideps/OpenCL-Headers -DWITH_BRAIN -Ideps/xxHash -DWITH_CUBIN -Ideps/unrar -DWITH_HWMON -Wno-class-memaccess -Wno-misleading-indentation -Wno-format-overflow -Wno-missing-braces -Wno-unused-variable -Wno-unused-parameter -Wno-unused-function -Wno-sign-compare -Wno-dangling-else -Wno-switch -Wno-parentheses -Wno-implicit-fallthrough -Wno-extra -Wno-unknown-pragmas -Wno-unused-but-set-variable -Wno-deprecated-declarations -Wno-misleading-indentation deps/unrar/encname.cpp -o obj/encname.UNRAR.NATIVE.o -fpic\n",
            "g++ -c  -flto=auto -march=native -mtune=native -W -Wall -Wextra -O2 -fomit-frame-pointer -fno-plt -pipe -Iinclude/ -IOpenCL/ -Ideps/LZMA-SDK/C -Ideps/zlib -Ideps/zlib/contrib -Ideps/OpenCL-Headers -DWITH_BRAIN -Ideps/xxHash -DWITH_CUBIN -Ideps/unrar -DWITH_HWMON -Wno-class-memaccess -Wno-misleading-indentation -Wno-format-overflow -Wno-missing-braces -Wno-unused-variable -Wno-unused-parameter -Wno-unused-function -Wno-sign-compare -Wno-dangling-else -Wno-switch -Wno-parentheses -Wno-implicit-fallthrough -Wno-extra -Wno-unknown-pragmas -Wno-unused-but-set-variable -Wno-deprecated-declarations -Wno-misleading-indentation deps/unrar/resource.cpp -o obj/resource.UNRAR.NATIVE.o -fpic\n",
            "g++ -c  -flto=auto -march=native -mtune=native -W -Wall -Wextra -O2 -fomit-frame-pointer -fno-plt -pipe -Iinclude/ -IOpenCL/ -Ideps/LZMA-SDK/C -Ideps/zlib -Ideps/zlib/contrib -Ideps/OpenCL-Headers -DWITH_BRAIN -Ideps/xxHash -DWITH_CUBIN -Ideps/unrar -DWITH_HWMON -Wno-class-memaccess -Wno-misleading-indentation -Wno-format-overflow -Wno-missing-braces -Wno-unused-variable -Wno-unused-parameter -Wno-unused-function -Wno-sign-compare -Wno-dangling-else -Wno-switch -Wno-parentheses -Wno-implicit-fallthrough -Wno-extra -Wno-unknown-pragmas -Wno-unused-but-set-variable -Wno-deprecated-declarations -Wno-misleading-indentation deps/unrar/match.cpp -o obj/match.UNRAR.NATIVE.o -fpic\n",
            "g++ -c  -flto=auto -march=native -mtune=native -W -Wall -Wextra -O2 -fomit-frame-pointer -fno-plt -pipe -Iinclude/ -IOpenCL/ -Ideps/LZMA-SDK/C -Ideps/zlib -Ideps/zlib/contrib -Ideps/OpenCL-Headers -DWITH_BRAIN -Ideps/xxHash -DWITH_CUBIN -Ideps/unrar -DWITH_HWMON -Wno-class-memaccess -Wno-misleading-indentation -Wno-format-overflow -Wno-missing-braces -Wno-unused-variable -Wno-unused-parameter -Wno-unused-function -Wno-sign-compare -Wno-dangling-else -Wno-switch -Wno-parentheses -Wno-implicit-fallthrough -Wno-extra -Wno-unknown-pragmas -Wno-unused-but-set-variable -Wno-deprecated-declarations -Wno-misleading-indentation deps/unrar/timefn.cpp -o obj/timefn.UNRAR.NATIVE.o -fpic\n",
            "g++ -c  -flto=auto -march=native -mtune=native -W -Wall -Wextra -O2 -fomit-frame-pointer -fno-plt -pipe -Iinclude/ -IOpenCL/ -Ideps/LZMA-SDK/C -Ideps/zlib -Ideps/zlib/contrib -Ideps/OpenCL-Headers -DWITH_BRAIN -Ideps/xxHash -DWITH_CUBIN -Ideps/unrar -DWITH_HWMON -Wno-class-memaccess -Wno-misleading-indentation -Wno-format-overflow -Wno-missing-braces -Wno-unused-variable -Wno-unused-parameter -Wno-unused-function -Wno-sign-compare -Wno-dangling-else -Wno-switch -Wno-parentheses -Wno-implicit-fallthrough -Wno-extra -Wno-unknown-pragmas -Wno-unused-but-set-variable -Wno-deprecated-declarations -Wno-misleading-indentation deps/unrar/rdwrfn.cpp -o obj/rdwrfn.UNRAR.NATIVE.o -fpic\n",
            "g++ -c  -flto=auto -march=native -mtune=native -W -Wall -Wextra -O2 -fomit-frame-pointer -fno-plt -pipe -Iinclude/ -IOpenCL/ -Ideps/LZMA-SDK/C -Ideps/zlib -Ideps/zlib/contrib -Ideps/OpenCL-Headers -DWITH_BRAIN -Ideps/xxHash -DWITH_CUBIN -Ideps/unrar -DWITH_HWMON -Wno-class-memaccess -Wno-misleading-indentation -Wno-format-overflow -Wno-missing-braces -Wno-unused-variable -Wno-unused-parameter -Wno-unused-function -Wno-sign-compare -Wno-dangling-else -Wno-switch -Wno-parentheses -Wno-implicit-fallthrough -Wno-extra -Wno-unknown-pragmas -Wno-unused-but-set-variable -Wno-deprecated-declarations -Wno-misleading-indentation deps/unrar/consio.cpp -o obj/consio.UNRAR.NATIVE.o -fpic\n",
            "g++ -c  -flto=auto -march=native -mtune=native -W -Wall -Wextra -O2 -fomit-frame-pointer -fno-plt -pipe -Iinclude/ -IOpenCL/ -Ideps/LZMA-SDK/C -Ideps/zlib -Ideps/zlib/contrib -Ideps/OpenCL-Headers -DWITH_BRAIN -Ideps/xxHash -DWITH_CUBIN -Ideps/unrar -DWITH_HWMON -Wno-class-memaccess -Wno-misleading-indentation -Wno-format-overflow -Wno-missing-braces -Wno-unused-variable -Wno-unused-parameter -Wno-unused-function -Wno-sign-compare -Wno-dangling-else -Wno-switch -Wno-parentheses -Wno-implicit-fallthrough -Wno-extra -Wno-unknown-pragmas -Wno-unused-but-set-variable -Wno-deprecated-declarations -Wno-misleading-indentation deps/unrar/options.cpp -o obj/options.UNRAR.NATIVE.o -fpic\n",
            "g++ -c  -flto=auto -march=native -mtune=native -W -Wall -Wextra -O2 -fomit-frame-pointer -fno-plt -pipe -Iinclude/ -IOpenCL/ -Ideps/LZMA-SDK/C -Ideps/zlib -Ideps/zlib/contrib -Ideps/OpenCL-Headers -DWITH_BRAIN -Ideps/xxHash -DWITH_CUBIN -Ideps/unrar -DWITH_HWMON -Wno-class-memaccess -Wno-misleading-indentation -Wno-format-overflow -Wno-missing-braces -Wno-unused-variable -Wno-unused-parameter -Wno-unused-function -Wno-sign-compare -Wno-dangling-else -Wno-switch -Wno-parentheses -Wno-implicit-fallthrough -Wno-extra -Wno-unknown-pragmas -Wno-unused-but-set-variable -Wno-deprecated-declarations -Wno-misleading-indentation deps/unrar/errhnd.cpp -o obj/errhnd.UNRAR.NATIVE.o -fpic\n",
            "g++ -c  -flto=auto -march=native -mtune=native -W -Wall -Wextra -O2 -fomit-frame-pointer -fno-plt -pipe -Iinclude/ -IOpenCL/ -Ideps/LZMA-SDK/C -Ideps/zlib -Ideps/zlib/contrib -Ideps/OpenCL-Headers -DWITH_BRAIN -Ideps/xxHash -DWITH_CUBIN -Ideps/unrar -DWITH_HWMON -Wno-class-memaccess -Wno-misleading-indentation -Wno-format-overflow -Wno-missing-braces -Wno-unused-variable -Wno-unused-parameter -Wno-unused-function -Wno-sign-compare -Wno-dangling-else -Wno-switch -Wno-parentheses -Wno-implicit-fallthrough -Wno-extra -Wno-unknown-pragmas -Wno-unused-but-set-variable -Wno-deprecated-declarations -Wno-misleading-indentation deps/unrar/rarvm.cpp -o obj/rarvm.UNRAR.NATIVE.o -fpic\n",
            "g++ -c  -flto=auto -march=native -mtune=native -W -Wall -Wextra -O2 -fomit-frame-pointer -fno-plt -pipe -Iinclude/ -IOpenCL/ -Ideps/LZMA-SDK/C -Ideps/zlib -Ideps/zlib/contrib -Ideps/OpenCL-Headers -DWITH_BRAIN -Ideps/xxHash -DWITH_CUBIN -Ideps/unrar -DWITH_HWMON -Wno-class-memaccess -Wno-misleading-indentation -Wno-format-overflow -Wno-missing-braces -Wno-unused-variable -Wno-unused-parameter -Wno-unused-function -Wno-sign-compare -Wno-dangling-else -Wno-switch -Wno-parentheses -Wno-implicit-fallthrough -Wno-extra -Wno-unknown-pragmas -Wno-unused-but-set-variable -Wno-deprecated-declarations -Wno-misleading-indentation deps/unrar/secpassword.cpp -o obj/secpassword.UNRAR.NATIVE.o -fpic\n",
            "g++ -c  -flto=auto -march=native -mtune=native -W -Wall -Wextra -O2 -fomit-frame-pointer -fno-plt -pipe -Iinclude/ -IOpenCL/ -Ideps/LZMA-SDK/C -Ideps/zlib -Ideps/zlib/contrib -Ideps/OpenCL-Headers -DWITH_BRAIN -Ideps/xxHash -DWITH_CUBIN -Ideps/unrar -DWITH_HWMON -Wno-class-memaccess -Wno-misleading-indentation -Wno-format-overflow -Wno-missing-braces -Wno-unused-variable -Wno-unused-parameter -Wno-unused-function -Wno-sign-compare -Wno-dangling-else -Wno-switch -Wno-parentheses -Wno-implicit-fallthrough -Wno-extra -Wno-unknown-pragmas -Wno-unused-but-set-variable -Wno-deprecated-declarations -Wno-misleading-indentation deps/unrar/rijndael.cpp -o obj/rijndael.UNRAR.NATIVE.o -fpic\n",
            "g++ -c  -flto=auto -march=native -mtune=native -W -Wall -Wextra -O2 -fomit-frame-pointer -fno-plt -pipe -Iinclude/ -IOpenCL/ -Ideps/LZMA-SDK/C -Ideps/zlib -Ideps/zlib/contrib -Ideps/OpenCL-Headers -DWITH_BRAIN -Ideps/xxHash -DWITH_CUBIN -Ideps/unrar -DWITH_HWMON -Wno-class-memaccess -Wno-misleading-indentation -Wno-format-overflow -Wno-missing-braces -Wno-unused-variable -Wno-unused-parameter -Wno-unused-function -Wno-sign-compare -Wno-dangling-else -Wno-switch -Wno-parentheses -Wno-implicit-fallthrough -Wno-extra -Wno-unknown-pragmas -Wno-unused-but-set-variable -Wno-deprecated-declarations -Wno-misleading-indentation deps/unrar/getbits.cpp -o obj/getbits.UNRAR.NATIVE.o -fpic\n",
            "g++ -c  -flto=auto -march=native -mtune=native -W -Wall -Wextra -O2 -fomit-frame-pointer -fno-plt -pipe -Iinclude/ -IOpenCL/ -Ideps/LZMA-SDK/C -Ideps/zlib -Ideps/zlib/contrib -Ideps/OpenCL-Headers -DWITH_BRAIN -Ideps/xxHash -DWITH_CUBIN -Ideps/unrar -DWITH_HWMON -Wno-class-memaccess -Wno-misleading-indentation -Wno-format-overflow -Wno-missing-braces -Wno-unused-variable -Wno-unused-parameter -Wno-unused-function -Wno-sign-compare -Wno-dangling-else -Wno-switch -Wno-parentheses -Wno-implicit-fallthrough -Wno-extra -Wno-unknown-pragmas -Wno-unused-but-set-variable -Wno-deprecated-declarations -Wno-misleading-indentation deps/unrar/sha1.cpp -o obj/sha1.UNRAR.NATIVE.o -fpic\n",
            "g++ -c  -flto=auto -march=native -mtune=native -W -Wall -Wextra -O2 -fomit-frame-pointer -fno-plt -pipe -Iinclude/ -IOpenCL/ -Ideps/LZMA-SDK/C -Ideps/zlib -Ideps/zlib/contrib -Ideps/OpenCL-Headers -DWITH_BRAIN -Ideps/xxHash -DWITH_CUBIN -Ideps/unrar -DWITH_HWMON -Wno-class-memaccess -Wno-misleading-indentation -Wno-format-overflow -Wno-missing-braces -Wno-unused-variable -Wno-unused-parameter -Wno-unused-function -Wno-sign-compare -Wno-dangling-else -Wno-switch -Wno-parentheses -Wno-implicit-fallthrough -Wno-extra -Wno-unknown-pragmas -Wno-unused-but-set-variable -Wno-deprecated-declarations -Wno-misleading-indentation deps/unrar/sha256.cpp -o obj/sha256.UNRAR.NATIVE.o -fpic\n",
            "g++ -c  -flto=auto -march=native -mtune=native -W -Wall -Wextra -O2 -fomit-frame-pointer -fno-plt -pipe -Iinclude/ -IOpenCL/ -Ideps/LZMA-SDK/C -Ideps/zlib -Ideps/zlib/contrib -Ideps/OpenCL-Headers -DWITH_BRAIN -Ideps/xxHash -DWITH_CUBIN -Ideps/unrar -DWITH_HWMON -Wno-class-memaccess -Wno-misleading-indentation -Wno-format-overflow -Wno-missing-braces -Wno-unused-variable -Wno-unused-parameter -Wno-unused-function -Wno-sign-compare -Wno-dangling-else -Wno-switch -Wno-parentheses -Wno-implicit-fallthrough -Wno-extra -Wno-unknown-pragmas -Wno-unused-but-set-variable -Wno-deprecated-declarations -Wno-misleading-indentation deps/unrar/blake2s.cpp -o obj/blake2s.UNRAR.NATIVE.o -fpic\n",
            "g++ -c  -flto=auto -march=native -mtune=native -W -Wall -Wextra -O2 -fomit-frame-pointer -fno-plt -pipe -Iinclude/ -IOpenCL/ -Ideps/LZMA-SDK/C -Ideps/zlib -Ideps/zlib/contrib -Ideps/OpenCL-Headers -DWITH_BRAIN -Ideps/xxHash -DWITH_CUBIN -Ideps/unrar -DWITH_HWMON -Wno-class-memaccess -Wno-misleading-indentation -Wno-format-overflow -Wno-missing-braces -Wno-unused-variable -Wno-unused-parameter -Wno-unused-function -Wno-sign-compare -Wno-dangling-else -Wno-switch -Wno-parentheses -Wno-implicit-fallthrough -Wno-extra -Wno-unknown-pragmas -Wno-unused-but-set-variable -Wno-deprecated-declarations -Wno-misleading-indentation deps/unrar/hash.cpp -o obj/hash.UNRAR.NATIVE.o -fpic\n",
            "g++ -c  -flto=auto -march=native -mtune=native -W -Wall -Wextra -O2 -fomit-frame-pointer -fno-plt -pipe -Iinclude/ -IOpenCL/ -Ideps/LZMA-SDK/C -Ideps/zlib -Ideps/zlib/contrib -Ideps/OpenCL-Headers -DWITH_BRAIN -Ideps/xxHash -DWITH_CUBIN -Ideps/unrar -DWITH_HWMON -Wno-class-memaccess -Wno-misleading-indentation -Wno-format-overflow -Wno-missing-braces -Wno-unused-variable -Wno-unused-parameter -Wno-unused-function -Wno-sign-compare -Wno-dangling-else -Wno-switch -Wno-parentheses -Wno-implicit-fallthrough -Wno-extra -Wno-unknown-pragmas -Wno-unused-but-set-variable -Wno-deprecated-declarations -Wno-misleading-indentation deps/unrar/extinfo.cpp -o obj/extinfo.UNRAR.NATIVE.o -fpic\n",
            "g++ -c  -flto=auto -march=native -mtune=native -W -Wall -Wextra -O2 -fomit-frame-pointer -fno-plt -pipe -Iinclude/ -IOpenCL/ -Ideps/LZMA-SDK/C -Ideps/zlib -Ideps/zlib/contrib -Ideps/OpenCL-Headers -DWITH_BRAIN -Ideps/xxHash -DWITH_CUBIN -Ideps/unrar -DWITH_HWMON -Wno-class-memaccess -Wno-misleading-indentation -Wno-format-overflow -Wno-missing-braces -Wno-unused-variable -Wno-unused-parameter -Wno-unused-function -Wno-sign-compare -Wno-dangling-else -Wno-switch -Wno-parentheses -Wno-implicit-fallthrough -Wno-extra -Wno-unknown-pragmas -Wno-unused-but-set-variable -Wno-deprecated-declarations -Wno-misleading-indentation deps/unrar/extract.cpp -o obj/extract.UNRAR.NATIVE.o -fpic\n",
            "g++ -c  -flto=auto -march=native -mtune=native -W -Wall -Wextra -O2 -fomit-frame-pointer -fno-plt -pipe -Iinclude/ -IOpenCL/ -Ideps/LZMA-SDK/C -Ideps/zlib -Ideps/zlib/contrib -Ideps/OpenCL-Headers -DWITH_BRAIN -Ideps/xxHash -DWITH_CUBIN -Ideps/unrar -DWITH_HWMON -Wno-class-memaccess -Wno-misleading-indentation -Wno-format-overflow -Wno-missing-braces -Wno-unused-variable -Wno-unused-parameter -Wno-unused-function -Wno-sign-compare -Wno-dangling-else -Wno-switch -Wno-parentheses -Wno-implicit-fallthrough -Wno-extra -Wno-unknown-pragmas -Wno-unused-but-set-variable -Wno-deprecated-declarations -Wno-misleading-indentation deps/unrar/volume.cpp -o obj/volume.UNRAR.NATIVE.o -fpic\n",
            "g++ -c  -flto=auto -march=native -mtune=native -W -Wall -Wextra -O2 -fomit-frame-pointer -fno-plt -pipe -Iinclude/ -IOpenCL/ -Ideps/LZMA-SDK/C -Ideps/zlib -Ideps/zlib/contrib -Ideps/OpenCL-Headers -DWITH_BRAIN -Ideps/xxHash -DWITH_CUBIN -Ideps/unrar -DWITH_HWMON -Wno-class-memaccess -Wno-misleading-indentation -Wno-format-overflow -Wno-missing-braces -Wno-unused-variable -Wno-unused-parameter -Wno-unused-function -Wno-sign-compare -Wno-dangling-else -Wno-switch -Wno-parentheses -Wno-implicit-fallthrough -Wno-extra -Wno-unknown-pragmas -Wno-unused-but-set-variable -Wno-deprecated-declarations -Wno-misleading-indentation deps/unrar/list.cpp -o obj/list.UNRAR.NATIVE.o -fpic\n",
            "g++ -c  -flto=auto -march=native -mtune=native -W -Wall -Wextra -O2 -fomit-frame-pointer -fno-plt -pipe -Iinclude/ -IOpenCL/ -Ideps/LZMA-SDK/C -Ideps/zlib -Ideps/zlib/contrib -Ideps/OpenCL-Headers -DWITH_BRAIN -Ideps/xxHash -DWITH_CUBIN -Ideps/unrar -DWITH_HWMON -Wno-class-memaccess -Wno-misleading-indentation -Wno-format-overflow -Wno-missing-braces -Wno-unused-variable -Wno-unused-parameter -Wno-unused-function -Wno-sign-compare -Wno-dangling-else -Wno-switch -Wno-parentheses -Wno-implicit-fallthrough -Wno-extra -Wno-unknown-pragmas -Wno-unused-but-set-variable -Wno-deprecated-declarations -Wno-misleading-indentation deps/unrar/find.cpp -o obj/find.UNRAR.NATIVE.o -fpic\n",
            "g++ -c  -flto=auto -march=native -mtune=native -W -Wall -Wextra -O2 -fomit-frame-pointer -fno-plt -pipe -Iinclude/ -IOpenCL/ -Ideps/LZMA-SDK/C -Ideps/zlib -Ideps/zlib/contrib -Ideps/OpenCL-Headers -DWITH_BRAIN -Ideps/xxHash -DWITH_CUBIN -Ideps/unrar -DWITH_HWMON -Wno-class-memaccess -Wno-misleading-indentation -Wno-format-overflow -Wno-missing-braces -Wno-unused-variable -Wno-unused-parameter -Wno-unused-function -Wno-sign-compare -Wno-dangling-else -Wno-switch -Wno-parentheses -Wno-implicit-fallthrough -Wno-extra -Wno-unknown-pragmas -Wno-unused-but-set-variable -Wno-deprecated-declarations -Wno-misleading-indentation deps/unrar/unpack.cpp -o obj/unpack.UNRAR.NATIVE.o -fpic\n",
            "g++ -c  -flto=auto -march=native -mtune=native -W -Wall -Wextra -O2 -fomit-frame-pointer -fno-plt -pipe -Iinclude/ -IOpenCL/ -Ideps/LZMA-SDK/C -Ideps/zlib -Ideps/zlib/contrib -Ideps/OpenCL-Headers -DWITH_BRAIN -Ideps/xxHash -DWITH_CUBIN -Ideps/unrar -DWITH_HWMON -Wno-class-memaccess -Wno-misleading-indentation -Wno-format-overflow -Wno-missing-braces -Wno-unused-variable -Wno-unused-parameter -Wno-unused-function -Wno-sign-compare -Wno-dangling-else -Wno-switch -Wno-parentheses -Wno-implicit-fallthrough -Wno-extra -Wno-unknown-pragmas -Wno-unused-but-set-variable -Wno-deprecated-declarations -Wno-misleading-indentation deps/unrar/headers.cpp -o obj/headers.UNRAR.NATIVE.o -fpic\n",
            "g++ -c  -flto=auto -march=native -mtune=native -W -Wall -Wextra -O2 -fomit-frame-pointer -fno-plt -pipe -Iinclude/ -IOpenCL/ -Ideps/LZMA-SDK/C -Ideps/zlib -Ideps/zlib/contrib -Ideps/OpenCL-Headers -DWITH_BRAIN -Ideps/xxHash -DWITH_CUBIN -Ideps/unrar -DWITH_HWMON -Wno-class-memaccess -Wno-misleading-indentation -Wno-format-overflow -Wno-missing-braces -Wno-unused-variable -Wno-unused-parameter -Wno-unused-function -Wno-sign-compare -Wno-dangling-else -Wno-switch -Wno-parentheses -Wno-implicit-fallthrough -Wno-extra -Wno-unknown-pragmas -Wno-unused-but-set-variable -Wno-deprecated-declarations -Wno-misleading-indentation deps/unrar/threadpool.cpp -o obj/threadpool.UNRAR.NATIVE.o -fpic\n",
            "g++ -c  -flto=auto -march=native -mtune=native -W -Wall -Wextra -O2 -fomit-frame-pointer -fno-plt -pipe -Iinclude/ -IOpenCL/ -Ideps/LZMA-SDK/C -Ideps/zlib -Ideps/zlib/contrib -Ideps/OpenCL-Headers -DWITH_BRAIN -Ideps/xxHash -DWITH_CUBIN -Ideps/unrar -DWITH_HWMON -Wno-class-memaccess -Wno-misleading-indentation -Wno-format-overflow -Wno-missing-braces -Wno-unused-variable -Wno-unused-parameter -Wno-unused-function -Wno-sign-compare -Wno-dangling-else -Wno-switch -Wno-parentheses -Wno-implicit-fallthrough -Wno-extra -Wno-unknown-pragmas -Wno-unused-but-set-variable -Wno-deprecated-declarations -Wno-misleading-indentation deps/unrar/rs16.cpp -o obj/rs16.UNRAR.NATIVE.o -fpic\n",
            "g++ -c  -flto=auto -march=native -mtune=native -W -Wall -Wextra -O2 -fomit-frame-pointer -fno-plt -pipe -Iinclude/ -IOpenCL/ -Ideps/LZMA-SDK/C -Ideps/zlib -Ideps/zlib/contrib -Ideps/OpenCL-Headers -DWITH_BRAIN -Ideps/xxHash -DWITH_CUBIN -Ideps/unrar -DWITH_HWMON -Wno-class-memaccess -Wno-misleading-indentation -Wno-format-overflow -Wno-missing-braces -Wno-unused-variable -Wno-unused-parameter -Wno-unused-function -Wno-sign-compare -Wno-dangling-else -Wno-switch -Wno-parentheses -Wno-implicit-fallthrough -Wno-extra -Wno-unknown-pragmas -Wno-unused-but-set-variable -Wno-deprecated-declarations -Wno-misleading-indentation deps/unrar/cmddata.cpp -o obj/cmddata.UNRAR.NATIVE.o -fpic\n",
            "g++ -c  -flto=auto -march=native -mtune=native -W -Wall -Wextra -O2 -fomit-frame-pointer -fno-plt -pipe -Iinclude/ -IOpenCL/ -Ideps/LZMA-SDK/C -Ideps/zlib -Ideps/zlib/contrib -Ideps/OpenCL-Headers -DWITH_BRAIN -Ideps/xxHash -DWITH_CUBIN -Ideps/unrar -DWITH_HWMON -Wno-class-memaccess -Wno-misleading-indentation -Wno-format-overflow -Wno-missing-braces -Wno-unused-variable -Wno-unused-parameter -Wno-unused-function -Wno-sign-compare -Wno-dangling-else -Wno-switch -Wno-parentheses -Wno-implicit-fallthrough -Wno-extra -Wno-unknown-pragmas -Wno-unused-but-set-variable -Wno-deprecated-declarations -Wno-misleading-indentation deps/unrar/ui.cpp -o obj/ui.UNRAR.NATIVE.o -fpic\n",
            "g++ -c  -flto=auto -march=native -mtune=native -W -Wall -Wextra -O2 -fomit-frame-pointer -fno-plt -pipe -Iinclude/ -IOpenCL/ -Ideps/LZMA-SDK/C -Ideps/zlib -Ideps/zlib/contrib -Ideps/OpenCL-Headers -DWITH_BRAIN -Ideps/xxHash -DWITH_CUBIN -Ideps/unrar -DWITH_HWMON -Wno-class-memaccess -Wno-misleading-indentation -Wno-format-overflow -Wno-missing-braces -Wno-unused-variable -Wno-unused-parameter -Wno-unused-function -Wno-sign-compare -Wno-dangling-else -Wno-switch -Wno-parentheses -Wno-implicit-fallthrough -Wno-extra -Wno-unknown-pragmas -Wno-unused-but-set-variable -Wno-deprecated-declarations -Wno-misleading-indentation deps/unrar/filestr.cpp -o obj/filestr.UNRAR.NATIVE.o -fpic\n",
            "g++ -c  -flto=auto -march=native -mtune=native -W -Wall -Wextra -O2 -fomit-frame-pointer -fno-plt -pipe -Iinclude/ -IOpenCL/ -Ideps/LZMA-SDK/C -Ideps/zlib -Ideps/zlib/contrib -Ideps/OpenCL-Headers -DWITH_BRAIN -Ideps/xxHash -DWITH_CUBIN -Ideps/unrar -DWITH_HWMON -Wno-class-memaccess -Wno-misleading-indentation -Wno-format-overflow -Wno-missing-braces -Wno-unused-variable -Wno-unused-parameter -Wno-unused-function -Wno-sign-compare -Wno-dangling-else -Wno-switch -Wno-parentheses -Wno-implicit-fallthrough -Wno-extra -Wno-unknown-pragmas -Wno-unused-but-set-variable -Wno-deprecated-declarations -Wno-misleading-indentation deps/unrar/recvol.cpp -o obj/recvol.UNRAR.NATIVE.o -fpic\n",
            "g++ -c  -flto=auto -march=native -mtune=native -W -Wall -Wextra -O2 -fomit-frame-pointer -fno-plt -pipe -Iinclude/ -IOpenCL/ -Ideps/LZMA-SDK/C -Ideps/zlib -Ideps/zlib/contrib -Ideps/OpenCL-Headers -DWITH_BRAIN -Ideps/xxHash -DWITH_CUBIN -Ideps/unrar -DWITH_HWMON -Wno-class-memaccess -Wno-misleading-indentation -Wno-format-overflow -Wno-missing-braces -Wno-unused-variable -Wno-unused-parameter -Wno-unused-function -Wno-sign-compare -Wno-dangling-else -Wno-switch -Wno-parentheses -Wno-implicit-fallthrough -Wno-extra -Wno-unknown-pragmas -Wno-unused-but-set-variable -Wno-deprecated-declarations -Wno-misleading-indentation deps/unrar/rs.cpp -o obj/rs.UNRAR.NATIVE.o -fpic\n",
            "g++ -c  -flto=auto -march=native -mtune=native -W -Wall -Wextra -O2 -fomit-frame-pointer -fno-plt -pipe -Iinclude/ -IOpenCL/ -Ideps/LZMA-SDK/C -Ideps/zlib -Ideps/zlib/contrib -Ideps/OpenCL-Headers -DWITH_BRAIN -Ideps/xxHash -DWITH_CUBIN -Ideps/unrar -DWITH_HWMON -Wno-class-memaccess -Wno-misleading-indentation -Wno-format-overflow -Wno-missing-braces -Wno-unused-variable -Wno-unused-parameter -Wno-unused-function -Wno-sign-compare -Wno-dangling-else -Wno-switch -Wno-parentheses -Wno-implicit-fallthrough -Wno-extra -Wno-unknown-pragmas -Wno-unused-but-set-variable -Wno-deprecated-declarations -Wno-misleading-indentation deps/unrar/scantree.cpp -o obj/scantree.UNRAR.NATIVE.o -fpic\n",
            "g++ -c  -flto=auto -march=native -mtune=native -W -Wall -Wextra -O2 -fomit-frame-pointer -fno-plt -pipe -Iinclude/ -IOpenCL/ -Ideps/LZMA-SDK/C -Ideps/zlib -Ideps/zlib/contrib -Ideps/OpenCL-Headers -DWITH_BRAIN -Ideps/xxHash -DWITH_CUBIN -Ideps/unrar -DWITH_HWMON -Wno-class-memaccess -Wno-misleading-indentation -Wno-format-overflow -Wno-missing-braces -Wno-unused-variable -Wno-unused-parameter -Wno-unused-function -Wno-sign-compare -Wno-dangling-else -Wno-switch -Wno-parentheses -Wno-implicit-fallthrough -Wno-extra -Wno-unknown-pragmas -Wno-unused-but-set-variable -Wno-deprecated-declarations -Wno-misleading-indentation deps/unrar/qopen.cpp -o obj/qopen.UNRAR.NATIVE.o -fpic\n",
            "g++ -c  -flto=auto -march=native -mtune=native -W -Wall -Wextra -O2 -fomit-frame-pointer -fno-plt -pipe -Iinclude/ -IOpenCL/ -Ideps/LZMA-SDK/C -Ideps/zlib -Ideps/zlib/contrib -Ideps/OpenCL-Headers -DWITH_BRAIN -Ideps/xxHash -DWITH_CUBIN -Ideps/unrar -DWITH_HWMON -Wno-class-memaccess -Wno-misleading-indentation -Wno-format-overflow -Wno-missing-braces -Wno-unused-variable -Wno-unused-parameter -Wno-unused-function -Wno-sign-compare -Wno-dangling-else -Wno-switch -Wno-parentheses -Wno-implicit-fallthrough -Wno-extra -Wno-unknown-pragmas -Wno-unused-but-set-variable -Wno-deprecated-declarations -Wno-misleading-indentation deps/unrar/hc_decompress_rar.cpp -o obj/hc_decompress_rar.UNRAR.NATIVE.o -fpic\n",
            "\n",
            "\u001b[31mWARNING: Skipping regular plugin 74000: rustup not found.\n",
            "         To use it, you must install Rust.\n",
            "         Otherwise, you can safely ignore this warning.\n",
            "         For more information, see 'docs/hashcat-rust-plugin-requirements.md'.\n",
            "\n",
            "\n",
            "\u001b[31mWARNING: Skipping regular plugin 74000: rustup not found.\n",
            "         To use it, you must install Rust.\n",
            "         Otherwise, you can safely ignore this warning.\n",
            "         For more information, see 'docs/hashcat-rust-plugin-requirements.md'.\n",
            "\n",
            "\n",
            "\u001b[31mWARNING: Skipping genereric attack-mode 8 plugin: cargo not found.\n",
            "         To use it, you must install Rust.\n",
            "         Otherwise, you can safely ignore this warning.\n",
            "         For more information, see 'docs/hashcat-rust-plugin-requirements.md'.\n",
            "\n",
            "ar rcs obj/combined.NATIVE.a obj/affinity.NATIVE.o obj/autotune.NATIVE.o obj/backend.NATIVE.o obj/benchmark.NATIVE.o obj/bitmap.NATIVE.o obj/bitops.NATIVE.o obj/bridges.NATIVE.o obj/combinator.NATIVE.o obj/common.NATIVE.o obj/convert.NATIVE.o obj/cpt.NATIVE.o obj/cpu_crc32.NATIVE.o obj/cpu_features.NATIVE.o obj/debugfile.NATIVE.o obj/dictstat.NATIVE.o obj/dispatch.NATIVE.o obj/dynloader.NATIVE.o obj/event.NATIVE.o obj/ext_ADL.NATIVE.o obj/ext_cuda.NATIVE.o obj/ext_hip.NATIVE.o obj/ext_nvapi.NATIVE.o obj/ext_nvml.NATIVE.o obj/ext_nvrtc.NATIVE.o obj/ext_hiprtc.NATIVE.o obj/ext_OpenCL.NATIVE.o obj/ext_sysfs_amdgpu.NATIVE.o obj/ext_sysfs_intelgpu.NATIVE.o obj/ext_sysfs_cpu.NATIVE.o obj/ext_lzma.NATIVE.o obj/filehandling.NATIVE.o obj/folder.NATIVE.o obj/hashcat.NATIVE.o obj/hashes.NATIVE.o obj/hlfmt.NATIVE.o obj/hwmon.NATIVE.o obj/induct.NATIVE.o obj/interface.NATIVE.o obj/keyboard_layout.NATIVE.o obj/locking.NATIVE.o obj/logfile.NATIVE.o obj/loopback.NATIVE.o obj/memory.NATIVE.o obj/monitor.NATIVE.o obj/mpsp.NATIVE.o obj/outfile_check.NATIVE.o obj/outfile.NATIVE.o obj/pidfile.NATIVE.o obj/potfile.NATIVE.o obj/restore.NATIVE.o obj/rp.NATIVE.o obj/rp_cpu.NATIVE.o obj/selftest.NATIVE.o obj/slow_candidates.NATIVE.o obj/shared.NATIVE.o obj/status.NATIVE.o obj/stdout.NATIVE.o obj/straight.NATIVE.o obj/generic.NATIVE.o obj/terminal.NATIVE.o obj/thread.NATIVE.o obj/timer.NATIVE.o obj/tuningdb.NATIVE.o obj/usage.NATIVE.o obj/user_options.NATIVE.o obj/wordlist.NATIVE.o obj/emu_general.NATIVE.o obj/emu_inc_common.NATIVE.o obj/emu_inc_platform.NATIVE.o obj/emu_inc_scalar.NATIVE.o obj/emu_inc_simd.NATIVE.o obj/emu_inc_rp_common.NATIVE.o obj/emu_inc_rp.NATIVE.o obj/emu_inc_rp_optimized.NATIVE.o obj/emu_inc_hash_md4.NATIVE.o obj/emu_inc_hash_md5.NATIVE.o obj/emu_inc_hash_ripemd160.NATIVE.o obj/emu_inc_hash_sha1.NATIVE.o obj/emu_inc_hash_sha256.NATIVE.o obj/emu_inc_hash_sha384.NATIVE.o obj/emu_inc_hash_sha512.NATIVE.o obj/emu_inc_hash_streebog256.NATIVE.o obj/emu_inc_hash_streebog512.NATIVE.o obj/emu_inc_ecc_secp256k1.NATIVE.o obj/emu_inc_bignum_operations.NATIVE.o obj/emu_inc_cipher_aes.NATIVE.o obj/emu_inc_cipher_camellia.NATIVE.o obj/emu_inc_cipher_des.NATIVE.o obj/emu_inc_cipher_kuznyechik.NATIVE.o obj/emu_inc_cipher_serpent.NATIVE.o obj/emu_inc_cipher_twofish.NATIVE.o obj/emu_inc_hash_base58.NATIVE.o obj/brain.NATIVE.o obj/7zCrc.LZMA.NATIVE.o obj/7zCrcOpt.LZMA.NATIVE.o obj/7zFile.LZMA.NATIVE.o obj/7zStream.LZMA.NATIVE.o obj/Alloc.LZMA.NATIVE.o obj/Bra.LZMA.NATIVE.o obj/Bra86.LZMA.NATIVE.o obj/BraIA64.LZMA.NATIVE.o obj/CpuArch.LZMA.NATIVE.o obj/Delta.LZMA.NATIVE.o obj/LzmaDec.LZMA.NATIVE.o obj/Lzma2Dec.LZMA.NATIVE.o obj/MtDec.LZMA.NATIVE.o obj/Sha256.LZMA.NATIVE.o obj/Sha256Opt.LZMA.NATIVE.o obj/Threads.LZMA.NATIVE.o obj/Xz.LZMA.NATIVE.o obj/XzCrc64.LZMA.NATIVE.o obj/XzCrc64Opt.LZMA.NATIVE.o obj/XzDec.LZMA.NATIVE.o obj/XzIn.LZMA.NATIVE.o obj/adler32.ZLIB.NATIVE.o obj/crc32.ZLIB.NATIVE.o obj/deflate.ZLIB.NATIVE.o obj/inflate.ZLIB.NATIVE.o obj/inffast.ZLIB.NATIVE.o obj/inftrees.ZLIB.NATIVE.o obj/trees.ZLIB.NATIVE.o obj/gzread.ZLIB.NATIVE.o obj/gzwrite.ZLIB.NATIVE.o obj/gzclose.ZLIB.NATIVE.o obj/zutil.ZLIB.NATIVE.o obj/gzlib.ZLIB.NATIVE.o obj/contrib/minizip/unzip.ZLIB.NATIVE.o obj/contrib/minizip/ioapi.ZLIB.NATIVE.o obj/xxhash.XXHASH.NATIVE.o obj/strlist.UNRAR.NATIVE.o obj/strfn.UNRAR.NATIVE.o obj/pathfn.UNRAR.NATIVE.o obj/smallfn.UNRAR.NATIVE.o obj/global.UNRAR.NATIVE.o obj/file.UNRAR.NATIVE.o obj/filefn.UNRAR.NATIVE.o obj/filcreat.UNRAR.NATIVE.o obj/archive.UNRAR.NATIVE.o obj/arcread.UNRAR.NATIVE.o obj/unicode.UNRAR.NATIVE.o obj/system.UNRAR.NATIVE.o obj/isnt.UNRAR.NATIVE.o obj/crypt.UNRAR.NATIVE.o obj/crc.UNRAR.NATIVE.o obj/rawread.UNRAR.NATIVE.o obj/encname.UNRAR.NATIVE.o obj/resource.UNRAR.NATIVE.o obj/match.UNRAR.NATIVE.o obj/timefn.UNRAR.NATIVE.o obj/rdwrfn.UNRAR.NATIVE.o obj/consio.UNRAR.NATIVE.o obj/options.UNRAR.NATIVE.o obj/errhnd.UNRAR.NATIVE.o obj/rarvm.UNRAR.NATIVE.o obj/secpassword.UNRAR.NATIVE.o obj/rijndael.UNRAR.NATIVE.o obj/getbits.UNRAR.NATIVE.o obj/sha1.UNRAR.NATIVE.o obj/sha256.UNRAR.NATIVE.o obj/blake2s.UNRAR.NATIVE.o obj/hash.UNRAR.NATIVE.o obj/extinfo.UNRAR.NATIVE.o obj/extract.UNRAR.NATIVE.o obj/volume.UNRAR.NATIVE.o obj/list.UNRAR.NATIVE.o obj/find.UNRAR.NATIVE.o obj/unpack.UNRAR.NATIVE.o obj/headers.UNRAR.NATIVE.o obj/threadpool.UNRAR.NATIVE.o obj/rs16.UNRAR.NATIVE.o obj/cmddata.UNRAR.NATIVE.o obj/ui.UNRAR.NATIVE.o obj/filestr.UNRAR.NATIVE.o obj/recvol.UNRAR.NATIVE.o obj/rs.UNRAR.NATIVE.o obj/scantree.UNRAR.NATIVE.o obj/qopen.UNRAR.NATIVE.o obj/hc_decompress_rar.UNRAR.NATIVE.o\n",
            "gcc    -std=gnu99 -flto=auto -march=native -mtune=native -W -Wall -Wextra -O2 -fomit-frame-pointer -fno-plt -pipe -Iinclude/ -IOpenCL/ -Ideps/LZMA-SDK/C -Ideps/zlib -Ideps/zlib/contrib -Ideps/OpenCL-Headers -DWITH_BRAIN -Ideps/xxHash -DWITH_CUBIN -Ideps/unrar -DWITH_HWMON src/main.c obj/combined.NATIVE.a -o hashcat                    -flto=auto -Wno-lto-type-mismatch -s -lstdc++ -lpthread -ldl -lrt -lm -DCOMPTIME=1761249087 -DVERSION_TAG=\\\"v7.1.2-332-gc74172ed8\\\" -DINSTALL_FOLDER=\\\"/usr/local/bin\\\" -DSHARED_FOLDER=\\\"/usr/local/share/hashcat\\\" -DDOCUMENT_FOLDER=\\\"/usr/local/share/doc/hashcat\\\"\n",
            "gcc    -std=gnu99 -flto=auto -march=native -mtune=native -W -Wall -Wextra -O2 -fomit-frame-pointer -fno-plt -pipe -Iinclude/ -IOpenCL/ -Ideps/LZMA-SDK/C -Ideps/zlib -Ideps/zlib/contrib -Ideps/OpenCL-Headers -DWITH_BRAIN -Ideps/xxHash -DWITH_CUBIN -Ideps/unrar -DWITH_HWMON src/modules/module_00000.c obj/combined.NATIVE.a -o modules/module_00000.so -flto=auto -Wno-lto-type-mismatch -s -lstdc++ -lpthread -ldl -lrt -lm -shared -fPIC -D MODULE_INTERFACE_VERSION_CURRENT=700\n",
            "gcc    -std=gnu99 -flto=auto -march=native -mtune=native -W -Wall -Wextra -O2 -fomit-frame-pointer -fno-plt -pipe -Iinclude/ -IOpenCL/ -Ideps/LZMA-SDK/C -Ideps/zlib -Ideps/zlib/contrib -Ideps/OpenCL-Headers -DWITH_BRAIN -Ideps/xxHash -DWITH_CUBIN -Ideps/unrar -DWITH_HWMON src/modules/module_00010.c obj/combined.NATIVE.a -o modules/module_00010.so -flto=auto -Wno-lto-type-mismatch -s -lstdc++ -lpthread -ldl -lrt -lm -shared -fPIC -D MODULE_INTERFACE_VERSION_CURRENT=700\n",
            "gcc    -std=gnu99 -flto=auto -march=native -mtune=native -W -Wall -Wextra -O2 -fomit-frame-pointer -fno-plt -pipe -Iinclude/ -IOpenCL/ -Ideps/LZMA-SDK/C -Ideps/zlib -Ideps/zlib/contrib -Ideps/OpenCL-Headers -DWITH_BRAIN -Ideps/xxHash -DWITH_CUBIN -Ideps/unrar -DWITH_HWMON src/modules/module_00011.c obj/combined.NATIVE.a -o modules/module_00011.so -flto=auto -Wno-lto-type-mismatch -s -lstdc++ -lpthread -ldl -lrt -lm -shared -fPIC -D MODULE_INTERFACE_VERSION_CURRENT=700\n",
            "gcc    -std=gnu99 -flto=auto -march=native -mtune=native -W -Wall -Wextra -O2 -fomit-frame-pointer -fno-plt -pipe -Iinclude/ -IOpenCL/ -Ideps/LZMA-SDK/C -Ideps/zlib -Ideps/zlib/contrib -Ideps/OpenCL-Headers -DWITH_BRAIN -Ideps/xxHash -DWITH_CUBIN -Ideps/unrar -DWITH_HWMON src/modules/module_00012.c obj/combined.NATIVE.a -o modules/module_00012.so -flto=auto -Wno-lto-type-mismatch -s -lstdc++ -lpthread -ldl -lrt -lm -shared -fPIC -D MODULE_INTERFACE_VERSION_CURRENT=700\n",
            "gcc    -std=gnu99 -flto=auto -march=native -mtune=native -W -Wall -Wextra -O2 -fomit-frame-pointer -fno-plt -pipe -Iinclude/ -IOpenCL/ -Ideps/LZMA-SDK/C -Ideps/zlib -Ideps/zlib/contrib -Ideps/OpenCL-Headers -DWITH_BRAIN -Ideps/xxHash -DWITH_CUBIN -Ideps/unrar -DWITH_HWMON src/modules/module_00020.c obj/combined.NATIVE.a -o modules/module_00020.so -flto=auto -Wno-lto-type-mismatch -s -lstdc++ -lpthread -ldl -lrt -lm -shared -fPIC -D MODULE_INTERFACE_VERSION_CURRENT=700\n",
            "gcc    -std=gnu99 -flto=auto -march=native -mtune=native -W -Wall -Wextra -O2 -fomit-frame-pointer -fno-plt -pipe -Iinclude/ -IOpenCL/ -Ideps/LZMA-SDK/C -Ideps/zlib -Ideps/zlib/contrib -Ideps/OpenCL-Headers -DWITH_BRAIN -Ideps/xxHash -DWITH_CUBIN -Ideps/unrar -DWITH_HWMON src/modules/module_00021.c obj/combined.NATIVE.a -o modules/module_00021.so -flto=auto -Wno-lto-type-mismatch -s -lstdc++ -lpthread -ldl -lrt -lm -shared -fPIC -D MODULE_INTERFACE_VERSION_CURRENT=700\n",
            "gcc    -std=gnu99 -flto=auto -march=native -mtune=native -W -Wall -Wextra -O2 -fomit-frame-pointer -fno-plt -pipe -Iinclude/ -IOpenCL/ -Ideps/LZMA-SDK/C -Ideps/zlib -Ideps/zlib/contrib -Ideps/OpenCL-Headers -DWITH_BRAIN -Ideps/xxHash -DWITH_CUBIN -Ideps/unrar -DWITH_HWMON src/modules/module_00022.c obj/combined.NATIVE.a -o modules/module_00022.so -flto=auto -Wno-lto-type-mismatch -s -lstdc++ -lpthread -ldl -lrt -lm -shared -fPIC -D MODULE_INTERFACE_VERSION_CURRENT=700\n",
            "make: *** Deleting file 'modules/module_00022.so'\n",
            "make: *** Deleting file 'modules/module_00021.so'\n",
            "make: *** Deleting file 'modules/module_00020.so'\n",
            "make: *** Deleting file 'modules/module_00012.so'\n",
            "make: *** Deleting file 'modules/module_00011.so'\n",
            "make: *** Deleting file 'modules/module_00010.so'\n",
            "make: *** Deleting file 'modules/module_00000.so'\n",
            "make: *** Deleting file 'hashcat'\n",
            "make[1]: *** Deleting file '/tmp/ccbZx8BU.ltrans1.ltrans.o'\n",
            "make[1]: *** Deleting file '/tmp/ccbZx8BU.ltrans0.ltrans.o'\n",
            "make[1]: *** [/tmp/ccIUzoFQ.mk:2: /tmp/ccbZx8BU.ltrans0.ltrans.o] Interrupt\n",
            "make[1]: *** [/tmp/ccIUzoFQ.mk:5: /tmp/ccbZx8BU.ltrans1.ltrans.o] Interrupt\n",
            "make: *** [src/Makefile:913: modules/module_00000.so] Interrupt\n",
            "make: *** [src/Makefile:913: modules/module_00020.so] Interrupt\n",
            "make[1]: *** Deleting file '/tmp/ccDoLakc.ltrans1.ltrans.o'\n",
            "make[1]: *** [/tmp/ccMAAiEz.mk:2: /tmp/ccDoLakc.ltrans0.ltrans.o] Interrupt\n",
            "make[1]: *** [/tmp/cczFEoqh.mk:2: /tmp/ccXR1X4c.ltrans0.ltrans.o] Interrupt\n",
            "make[1]: *** [/tmp/ccBlPm9M.mk:2: /tmp/ccCLUx60.ltrans0.ltrans.o] Interrupt\n",
            "make[1]: *** [/tmp/ccBlPm9M.mk:5: /tmp/ccCLUx60.ltrans1.ltrans.o] Interrupt\n",
            "make: *** [src/Makefile:913: modules/module_00022.so] Interrupt\n",
            "make[1]: *** [/tmp/cczFEoqh.mk:5: /tmp/ccXR1X4c.ltrans1.ltrans.o] Interrupt\n",
            "make[1]: *** Deleting file '/tmp/ccMf7Q3C.ltrans1.ltrans.o'\n",
            "make[1]: *** Deleting file '/tmp/ccMf7Q3C.ltrans0.ltrans.o'\n",
            "make[1]: *** [/tmp/ccf5cYZy.mk:2: /tmp/ccYesSj6.ltrans0.ltrans.o] Interrupt\n",
            "make[1]: *** Deleting file '/tmp/ccNTw1Pj.ltrans0.ltrans.o'\n",
            "make[1]: *** Deleting file '/tmp/ccNTw1Pj.ltrans5.ltrans.o'\n",
            "make[1]: *** [/tmp/ccKu58Iz.mk:5: /tmp/ccMf7Q3C.ltrans1.ltrans.o] Interrupt\n",
            "make[1]: *** [/tmp/ccKu58Iz.mk:2: /tmp/ccMf7Q3C.ltrans0.ltrans.o] Interrupt\n",
            "make[1]: *** [/tmp/cc3UByhD.mk:2: /tmp/ccNTw1Pj.ltrans0.ltrans.o] Interrupt\n",
            "make: *** [src/Makefile:913: modules/module_00021.so] Interrupt\n",
            "make[1]: *** [/tmp/ccMAAiEz.mk:5: /tmp/ccDoLakc.ltrans1.ltrans.o] Interrupt\n",
            "make: *** [src/Makefile:879: hashcat] Interrupt\n",
            "make: *** [src/Makefile:913: modules/module_00011.so] Interrupt\n",
            "make[1]: *** [/tmp/ccf5cYZy.mk:5: /tmp/ccYesSj6.ltrans1.ltrans.o] Interrupt\n",
            "make: *** [src/Makefile:913: modules/module_00010.so] Interrupt\n",
            "make: *** [src/Makefile:913: modules/module_00012.so] Interrupt\n",
            "make[1]: *** [/tmp/ccnha6bA.mk:2: /tmp/ccOCpiFP.ltrans0.ltrans.o] Interrupt\n",
            "make[1]: *** [/tmp/cc3UByhD.mk:17: /tmp/ccNTw1Pj.ltrans5.ltrans.o] Interrupt\n",
            "make[1]: *** [/tmp/ccnha6bA.mk:5: /tmp/ccOCpiFP.ltrans1.ltrans.o] Interrupt\n",
            "^C\n"
          ]
        }
      ]
    },
    {
      "cell_type": "code",
      "metadata": {
        "id": "BKcdtozLUe1W",
        "outputId": "80f0dee3-9412-4707-fd55-de337df601be",
        "colab": {
          "base_uri": "https://localhost:8080/"
        }
      },
      "source": [
        "# Check the Hashcat Version to make sure it's installed correctly\n",
        "!hashcat --version"
      ],
      "execution_count": 4,
      "outputs": [
        {
          "output_type": "stream",
          "name": "stdout",
          "text": [
            "/bin/bash: line 1: hashcat: command not found\n"
          ]
        }
      ]
    },
    {
      "cell_type": "code",
      "metadata": {
        "id": "UFwpl__HVvJ3",
        "outputId": "2546e721-b107-45e6-9aaa-860f2022f241",
        "colab": {
          "base_uri": "https://localhost:8080/",
          "height": 386
        }
      },
      "source": [
        "# WPA2 EAPOL Benchmark (change this to check the speed of whichever hash you're cracking)\n",
        "!hashcat -w 4 -m 2500 --benchmark"
      ],
      "execution_count": null,
      "outputs": [
        {
          "output_type": "stream",
          "text": [
            "hashcat (v6.1.1-120-g15bf8b730) starting in benchmark mode...\n",
            "\n",
            "\u001b[31mnvmlDeviceGetFanSpeed(): Not Supported\u001b[0m\n",
            "\n",
            "CUDA API (CUDA 10.1)\n",
            "====================\n",
            "* Device #1: Tesla P100-PCIE-16GB, 16017/16280 MB, 56MCU\n",
            "\n",
            "OpenCL API (OpenCL 1.2 CUDA 10.1.152) - Platform #1 [NVIDIA Corporation]\n",
            "========================================================================\n",
            "* Device #2: Tesla P100-PCIE-16GB, skipped\n",
            "\n",
            "Benchmark relevant options:\n",
            "===========================\n",
            "* --workload-profile=4\n",
            "\n",
            "Hashmode: 2500 - WPA-EAPOL-PBKDF2 (Iterations: 4095)\n",
            "\n",
            "Speed.#1.........:   475.9 kH/s (240.32ms) @ Accel:32 Loops:256 Thr:1024 Vec:1\n",
            "\n",
            "Started: Fri Oct 16 10:41:37 2020\n",
            "Stopped: Fri Oct 16 10:41:58 2020\n"
          ],
          "name": "stdout"
        }
      ]
    },
    {
      "cell_type": "code",
      "metadata": {
        "id": "5fmoX1ku_PsU",
        "outputId": "2fc7f293-3aaa-4da6-9ff9-c0b8f40c9bdc",
        "colab": {
          "base_uri": "https://localhost:8080/",
          "height": 168
        }
      },
      "source": [
        "# Get wordlists\n",
        "!mkdir /root/wordlists && cd /root/wordlists\n",
        "\n",
        "# Clone the SecLists repository\n",
        "!git clone https://github.com/danielmiessler/SecLists /root/wordlists/SecLists\n",
        "\n",
        "# Append 'hashcat' for demonstration purposes\n",
        "!echo \"hashcat!\" >> /root/wordlists/SecLists/Passwords/Leaked-Databases/rockyou-75.txt\n",
        "\n",
        "!ls /root/wordlists/SecLists"
      ],
      "execution_count": null,
      "outputs": [
        {
          "output_type": "stream",
          "text": [
            "Cloning into '/root/wordlists/SecLists'...\n",
            "remote: Enumerating objects: 9347, done.\u001b[K\n",
            "remote: Total 9347 (delta 0), reused 0 (delta 0), pack-reused 9347\u001b[K\n",
            "Receiving objects: 100% (9347/9347), 709.10 MiB | 14.31 MiB/s, done.\n",
            "Resolving deltas: 100% (4850/4850), done.\n",
            "Checking out files: 100% (5312/5312), done.\n",
            "CONTRIBUTING.md  Fuzzing  Miscellaneous     Payloads   Web-Shells\n",
            "CONTRIBUTORS.md  IOCs\t  Passwords\t    README.md\n",
            "Discovery\t LICENSE  Pattern-Matching  Usernames\n"
          ],
          "name": "stdout"
        }
      ]
    },
    {
      "cell_type": "code",
      "metadata": {
        "id": "yIkXZRlEFUIz"
      },
      "source": [
        "# Check that your hashes are accessible to Colab\n",
        "!ls /root/.hashcat/hashes"
      ],
      "execution_count": null,
      "outputs": []
    },
    {
      "cell_type": "code",
      "metadata": {
        "id": "iLqp5xQCXwiq",
        "outputId": "146cec5c-2060-4b28-bcaa-18d3f5bee197",
        "colab": {
          "base_uri": "https://localhost:8080/",
          "height": 336
        }
      },
      "source": [
        "# Start pure brute force cracking with a session name\n",
        "# !hashcat -m 2500 -a3 --session $SESSION /root/.hashcat/hashes/test.hccapx\n",
        "# !hashcat -m 2500 /root/.hashcat/hashes/test.hccapx -a 3 -w 4 --session test-session\n",
        "\n",
        "# Restore the session\n",
        "# !hashcat --session $SESSION --restore\n",
        "\n",
        "# Crack with a wordlist\n",
        "!hashcat -m 2500 /root/.hashcat/hashes/test.hccapx /root/wordlists/SecLists/Passwords/Leaked-Databases/rockyou-75.txt"
      ],
      "execution_count": null,
      "outputs": [
        {
          "output_type": "stream",
          "text": [
            "hashcat (v6.1.1-120-g15bf8b730) starting...\n",
            "\n",
            "\u001b[31mnvmlDeviceGetFanSpeed(): Not Supported\u001b[0m\n",
            "\n",
            "CUDA API (CUDA 10.1)\n",
            "====================\n",
            "* Device #1: Tesla P100-PCIE-16GB, 16017/16280 MB, 56MCU\n",
            "\n",
            "OpenCL API (OpenCL 1.2 CUDA 10.1.152) - Platform #1 [NVIDIA Corporation]\n",
            "========================================================================\n",
            "* Device #2: Tesla P100-PCIE-16GB, skipped\n",
            "\n",
            "Minimum password length supported by kernel: 8\n",
            "Maximum password length supported by kernel: 63\n",
            "\n",
            "\u001b[31m/root/.hashcat/hashes/test.hccapx: No such file or directory\u001b[0m\n",
            "\n",
            "Started: Fri Oct 16 10:43:04 2020\n",
            "Stopped: Fri Oct 16 10:43:07 2020\n"
          ],
          "name": "stdout"
        }
      ]
    },
    {
      "cell_type": "code",
      "metadata": {
        "id": "HrMTWTx2LUqP",
        "outputId": "31d9041d-1d73-405d-e35e-511127dc500d",
        "colab": {
          "resources": {
            "http://localhost:8080/nbextensions/google.colab/files.js": {
              "data": "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",
              "ok": true,
              "headers": [
                [
                  "content-type",
                  "application/javascript"
                ]
              ],
              "status": 200,
              "status_text": ""
            }
          },
          "base_uri": "https://localhost:8080/",
          "height": 106
        }
      },
      "source": [
        "# creating new directory to store cap files\n",
        "!mkdir cap_files\n",
        "# uploading cap\n",
        "from google.colab import files\n",
        "\n",
        "uploaded = files.upload()\n",
        "\n",
        "for f_name in uploaded.keys():\n",
        "  print('User uploaded file \"{name}\" with length {length} bytes'.format(name=f_name, length=len(uploaded[f_name])))\n",
        "\n",
        "!mv {f_name} \"/content/cap_files/{f_name}\""
      ],
      "execution_count": null,
      "outputs": [
        {
          "output_type": "stream",
          "text": [
            "mkdir: cannot create directory ‘cap_files’: File exists\n"
          ],
          "name": "stdout"
        },
        {
          "output_type": "display_data",
          "data": {
            "text/html": [
              "\n",
              "     <input type=\"file\" id=\"files-ffd2464e-4a2d-4086-bd09-195cef58672f\" name=\"files[]\" multiple disabled\n",
              "        style=\"border:none\" />\n",
              "     <output id=\"result-ffd2464e-4a2d-4086-bd09-195cef58672f\">\n",
              "      Upload widget is only available when the cell has been executed in the\n",
              "      current browser session. Please rerun this cell to enable.\n",
              "      </output>\n",
              "      <script src=\"/nbextensions/google.colab/files.js\"></script> "
            ],
            "text/plain": [
              "<IPython.core.display.HTML object>"
            ]
          },
          "metadata": {
            "tags": []
          }
        },
        {
          "output_type": "stream",
          "text": [
            "Saving vass.hccapx to vass.hccapx\n",
            "User uploaded file \"vass.hccapx\" with length 786 bytes\n"
          ],
          "name": "stdout"
        }
      ]
    },
    {
      "cell_type": "code",
      "metadata": {
        "id": "uUrjIEd0ALR-"
      },
      "source": [
        "import glob\n",
        "import subprocess\n",
        "import re\n",
        "from tqdm import tqdm\n",
        "is_cracked = False\n",
        "wordlists = list()\n",
        "for wordlist in glob.glob('/root/wordlists/SecLists/Passwords/Common-Credentials/*'):\n",
        "  wordlists.append(wordlist)\n",
        "for wordlist in glob.glob('/root/wordlists/SecLists/Passwords/Cracked-Hashes/milw0rm-dictionary.txt'):\n",
        "  wordlists.append(wordlist)\n",
        "for wordlist in glob.glob('/root/wordlists/SecLists/Passwords/Default-Credentials/*'):\n",
        "  wordlists.append(wordlist)\n",
        "for wordlist in glob.glob('/root/wordlists/SecLists/Passwords/Honeypot-Captures/*'):\n",
        "  wordlists.append(wordlist)\n",
        "for wordlist in glob.glob('/root/wordlists/SecLists/Passwords/Leaked-Databases/*'):\n",
        "  wordlists.append(wordlist)\n",
        "for wordlist in glob.glob('/root/wordlists/SecLists/Passwords/Malware/*'):\n",
        "  wordlists.append(wordlist)\n",
        "for wordlist in glob.glob('/root/wordlists/SecLists/Passwords/WiFi-WPA/*'):\n",
        "  wordlists.append(wordlist)\n",
        "for wordlist in glob.glob('/root/wordlists/SecLists/Passwords/Software/*'):\n",
        "  wordlists.append(wordlist)\n",
        "for wordlist in glob.glob('/root/wordlists/SecLists/Passwords/*.txt'):\n",
        "  wordlists.append(wordlist)"
      ],
      "execution_count": null,
      "outputs": []
    },
    {
      "cell_type": "code",
      "metadata": {
        "id": "_4oUnuulDZw-"
      },
      "source": [
        "def check_if_cracked(command):\n",
        "  output = subprocess.check_output([command + \" --show\"], shell=True).decode()\n",
        "  if len(output) == 0:\n",
        "    return False\n",
        "  else:\n",
        "    return True\n",
        "\n"
      ],
      "execution_count": null,
      "outputs": []
    },
    {
      "cell_type": "code",
      "metadata": {
        "id": "2LWlGdbKCT2c"
      },
      "source": [
        "cap_file = f\"/content/cap_files/{f_name} \"\n",
        "for wordlist in tqdm(wordlists):\n",
        "  command = 'hashcat -m 2500 ' + cap_file + wordlist\n",
        "  subprocess.call([command],shell=True)\n",
        "  if check_if_cracked(command):\n",
        "    is_cracked = True\n",
        "  if is_cracked:\n",
        "    print(\"Password is cracked!!\")\n",
        "    cracked_password = subprocess.check_output([command + \" --show\"], shell=True).decode()\n",
        "    cracked_password = cracked_password.split(':')[-1]\n",
        "    print(f\"Password : {cracked_password}\")\n",
        "    print(f\"wordlist used : {wordlist}\")\n",
        "    break\n",
        "  else:\n",
        "    continue\n",
        "\n",
        "if is_cracked == False:\n",
        "  print(\"Password was not found in SecLists\")\n",
        "else:\n",
        "  pass"
      ],
      "execution_count": null,
      "outputs": []
    }
  ]
}